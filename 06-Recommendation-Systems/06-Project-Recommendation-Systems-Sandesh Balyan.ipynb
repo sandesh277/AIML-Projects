{
 "cells": [
  {
   "cell_type": "markdown",
   "metadata": {},
   "source": [
    "# <a>Project - Recommendation Systems</a>\n",
    "## <a>Product Recommendation based on Amazon reviews data <a>\n",
    "by Sandesh Balyan"
   ]
  },
  {
   "cell_type": "markdown",
   "metadata": {},
   "source": [
    "<div class=\"list-group\" id=\"list-tab\" role=\"tablist\">\n",
    "  <h3 class=\"list-group-item list-group-item-action active\" data-toggle=\"list\"  role=\"tab\" aria-controls=\"home\">Table of Contents</h3>\n",
    "  <a class=\"list-group-item list-group-item-action\" data-toggle=\"list\" href=\"#eda\" role=\"tab\" aria-controls=\"profile\">1. Exploratory Data Analysis and Preprocessing<span class=\"badge badge-primary badge-pill\">1</span></a>\n",
    "    <a class=\"list-group-item list-group-item-action\" data-toggle=\"list\" href=\"#2\" role=\"tab\" aria-controls=\"profile\">2. Handling sparsity in dataset<span class=\"badge badge-primary badge-pill\">2</span></a>\n",
    "    <a class=\"list-group-item list-group-item-action\" data-toggle=\"list\" href=\"#3\" role=\"tab\" aria-controls=\"profile\">3. Popularity based recommender system<span class=\"badge badge-primary badge-pill\">3</span></a>\n",
    "    <a class=\"list-group-item list-group-item-action\" data-toggle=\"list\" href=\"#4\" role=\"tab\" aria-controls=\"profile\">4. Splitting the dataset<span class=\"badge badge-primary badge-pill\">4</span></a>\n",
    "    <a class=\"list-group-item list-group-item-action\" data-toggle=\"list\" href=\"#5\" role=\"tab\" aria-controls=\"profile\">5. Collaborative filtering based recommender system<span class=\"badge badge-primary badge-pill\">5</span></a>\n",
    "    <a class=\"list-group-item list-group-item-action\" data-toggle=\"list\" href=\"#6\" role=\"tab\" aria-controls=\"profile\">6. Model Evaluation and hyperparameter tuning<span class=\"badge badge-primary badge-pill\">6</span></a>\n",
    "    <a class=\"list-group-item list-group-item-action\" data-toggle=\"list\" href=\"#7\" role=\"tab\" aria-controls=\"profile\">7. Predictions based on best model<span class=\"badge badge-primary badge-pill\">7</span></a>\n",
    "    <a class=\"list-group-item list-group-item-action\" data-toggle=\"list\" href=\"#8\" role=\"tab\" aria-controls=\"profile\">8. Conclusion<span class=\"badge badge-primary badge-pill\">8</span></a>\n",
    "</div>"
   ]
  },
  {
   "cell_type": "markdown",
   "metadata": {},
   "source": [
    "# <a>Description <a>\n",
    "    \n",
    "    This dataset contains reviews on Amazon's website for elctronic products. Database contains only 4 columns viz a viz 'user'. 'product', 'ratings' and 'timestamp.\n",
    "    Product Recommendations is essential part of any ecommerce platform and help boost revenue by recommending products based on users interest and need."
   ]
  },
  {
   "cell_type": "markdown",
   "metadata": {},
   "source": [
    "# <a>Objective <a>\n",
    "    To make a recommendation system that recommends at least five(5) new products based on the user's habits\n",
    "    \n",
    "    Learning Outcomes -\n",
    "1. Exploratory Data Analysis\n",
    "2. Data Wrangling\n",
    "3. Build a Popularity recommender model\n",
    "4. Build Collaborative Filtering model"
   ]
  },
  {
   "cell_type": "markdown",
   "metadata": {},
   "source": [
    "# <a id='eda'>1. Exploratory Data Analysis and Preprocessing <a>"
   ]
  },
  {
   "cell_type": "code",
   "execution_count": 1,
   "metadata": {},
   "outputs": [],
   "source": [
    "import numpy as np\n",
    "import pandas as pd\n",
    "import seaborn as sns\n",
    "import matplotlib.pyplot as plt\n",
    "import surprise as sp\n",
    "from surprise import KNNWithMeans\n",
    "import warnings\n",
    "warnings.filterwarnings('ignore')\n",
    "import itertools\n",
    "import time\n",
    "from scipy.sparse import csr_matrix"
   ]
  },
  {
   "cell_type": "code",
   "execution_count": 2,
   "metadata": {},
   "outputs": [
    {
     "data": {
      "text/html": [
       "<div>\n",
       "<style scoped>\n",
       "    .dataframe tbody tr th:only-of-type {\n",
       "        vertical-align: middle;\n",
       "    }\n",
       "\n",
       "    .dataframe tbody tr th {\n",
       "        vertical-align: top;\n",
       "    }\n",
       "\n",
       "    .dataframe thead th {\n",
       "        text-align: right;\n",
       "    }\n",
       "</style>\n",
       "<table border=\"1\" class=\"dataframe\">\n",
       "  <thead>\n",
       "    <tr style=\"text-align: right;\">\n",
       "      <th></th>\n",
       "      <th>userid</th>\n",
       "      <th>productid</th>\n",
       "      <th>rating</th>\n",
       "      <th>timestamp</th>\n",
       "    </tr>\n",
       "  </thead>\n",
       "  <tbody>\n",
       "    <tr>\n",
       "      <th>0</th>\n",
       "      <td>AKM1MP6P0OYPR</td>\n",
       "      <td>0132793040</td>\n",
       "      <td>5.0</td>\n",
       "      <td>1365811200</td>\n",
       "    </tr>\n",
       "    <tr>\n",
       "      <th>1</th>\n",
       "      <td>A2CX7LUOHB2NDG</td>\n",
       "      <td>0321732944</td>\n",
       "      <td>5.0</td>\n",
       "      <td>1341100800</td>\n",
       "    </tr>\n",
       "    <tr>\n",
       "      <th>2</th>\n",
       "      <td>A2NWSAGRHCP8N5</td>\n",
       "      <td>0439886341</td>\n",
       "      <td>1.0</td>\n",
       "      <td>1367193600</td>\n",
       "    </tr>\n",
       "    <tr>\n",
       "      <th>3</th>\n",
       "      <td>A2WNBOD3WNDNKT</td>\n",
       "      <td>0439886341</td>\n",
       "      <td>3.0</td>\n",
       "      <td>1374451200</td>\n",
       "    </tr>\n",
       "    <tr>\n",
       "      <th>4</th>\n",
       "      <td>A1GI0U4ZRJA8WN</td>\n",
       "      <td>0439886341</td>\n",
       "      <td>1.0</td>\n",
       "      <td>1334707200</td>\n",
       "    </tr>\n",
       "  </tbody>\n",
       "</table>\n",
       "</div>"
      ],
      "text/plain": [
       "           userid   productid  rating   timestamp\n",
       "0   AKM1MP6P0OYPR  0132793040     5.0  1365811200\n",
       "1  A2CX7LUOHB2NDG  0321732944     5.0  1341100800\n",
       "2  A2NWSAGRHCP8N5  0439886341     1.0  1367193600\n",
       "3  A2WNBOD3WNDNKT  0439886341     3.0  1374451200\n",
       "4  A1GI0U4ZRJA8WN  0439886341     1.0  1334707200"
      ]
     },
     "execution_count": 2,
     "metadata": {},
     "output_type": "execute_result"
    }
   ],
   "source": [
    "data = pd.read_csv('ratings_Electronics.csv',header=None,names=['userid','productid','rating','timestamp'])\n",
    "data.head()"
   ]
  },
  {
   "cell_type": "code",
   "execution_count": 3,
   "metadata": {},
   "outputs": [
    {
     "data": {
      "text/plain": [
       "(7824482, 4)"
      ]
     },
     "execution_count": 3,
     "metadata": {},
     "output_type": "execute_result"
    }
   ],
   "source": [
    "data.shape"
   ]
  },
  {
   "cell_type": "code",
   "execution_count": 4,
   "metadata": {},
   "outputs": [
    {
     "data": {
      "text/plain": [
       "userid       7824482\n",
       "productid    7824482\n",
       "rating       7824482\n",
       "timestamp    7824482\n",
       "dtype: int64"
      ]
     },
     "execution_count": 4,
     "metadata": {},
     "output_type": "execute_result"
    }
   ],
   "source": [
    "data.isna().count()"
   ]
  },
  {
   "cell_type": "code",
   "execution_count": 5,
   "metadata": {},
   "outputs": [
    {
     "data": {
      "text/plain": [
       "False    7824482\n",
       "dtype: int64"
      ]
     },
     "execution_count": 5,
     "metadata": {},
     "output_type": "execute_result"
    }
   ],
   "source": [
    "data.duplicated().value_counts()"
   ]
  },
  {
   "cell_type": "code",
   "execution_count": 6,
   "metadata": {},
   "outputs": [],
   "source": [
    "#Drop column timestamp\n",
    "data = data.drop('timestamp',axis=1)"
   ]
  },
  {
   "cell_type": "markdown",
   "metadata": {},
   "source": [
    "##### Insights:\n",
    "1. There are 7.8 million observations in the dataset and 4 Variables\n",
    "2. Variable timestamp shall be dropped\n",
    "3. There are no duplicate observations in the dataset"
   ]
  },
  {
   "cell_type": "markdown",
   "metadata": {},
   "source": [
    "## 1.1 Descriptive Statistics"
   ]
  },
  {
   "cell_type": "code",
   "execution_count": 7,
   "metadata": {},
   "outputs": [
    {
     "data": {
      "text/html": [
       "<div>\n",
       "<style scoped>\n",
       "    .dataframe tbody tr th:only-of-type {\n",
       "        vertical-align: middle;\n",
       "    }\n",
       "\n",
       "    .dataframe tbody tr th {\n",
       "        vertical-align: top;\n",
       "    }\n",
       "\n",
       "    .dataframe thead th {\n",
       "        text-align: right;\n",
       "    }\n",
       "</style>\n",
       "<table border=\"1\" class=\"dataframe\">\n",
       "  <thead>\n",
       "    <tr style=\"text-align: right;\">\n",
       "      <th></th>\n",
       "      <th>count</th>\n",
       "      <th>mean</th>\n",
       "      <th>std</th>\n",
       "      <th>min</th>\n",
       "      <th>25%</th>\n",
       "      <th>50%</th>\n",
       "      <th>75%</th>\n",
       "      <th>max</th>\n",
       "    </tr>\n",
       "  </thead>\n",
       "  <tbody>\n",
       "    <tr>\n",
       "      <th>rating</th>\n",
       "      <td>7824482.0</td>\n",
       "      <td>4.012337</td>\n",
       "      <td>1.38091</td>\n",
       "      <td>1.0</td>\n",
       "      <td>3.0</td>\n",
       "      <td>5.0</td>\n",
       "      <td>5.0</td>\n",
       "      <td>5.0</td>\n",
       "    </tr>\n",
       "  </tbody>\n",
       "</table>\n",
       "</div>"
      ],
      "text/plain": [
       "            count      mean      std  min  25%  50%  75%  max\n",
       "rating  7824482.0  4.012337  1.38091  1.0  3.0  5.0  5.0  5.0"
      ]
     },
     "execution_count": 7,
     "metadata": {},
     "output_type": "execute_result"
    }
   ],
   "source": [
    "data.describe().transpose()"
   ]
  },
  {
   "cell_type": "markdown",
   "metadata": {},
   "source": [
    "##### Insights:\n",
    "\n",
    "Since there is only one numeric column 'rating' hence we have only one row in the describe data\n",
    "\n",
    "1. Total number of records in this dataset are 7.8 million\n",
    "2. minimum rating is 1 and maximum rating is 5\n",
    "3. mean rating is approx. 4 but median rating is 5\n",
    "4. Data seems to be a little right taled with most more than 50% values being 5.0"
   ]
  },
  {
   "cell_type": "code",
   "execution_count": 8,
   "metadata": {},
   "outputs": [
    {
     "name": "stdout",
     "output_type": "stream",
     "text": [
      "Total number of unique Users in the dataset are 4201696\n",
      "Total number of unique Products in the dataset are 476002\n"
     ]
    }
   ],
   "source": [
    "print('Total number of unique Users in the dataset are {}'.format(data['userid'].nunique()))\n",
    "print('Total number of unique Products in the dataset are {}'.format(data['productid'].nunique()))"
   ]
  },
  {
   "cell_type": "markdown",
   "metadata": {},
   "source": [
    "## 1.2 Distribution of ratings over users"
   ]
  },
  {
   "cell_type": "markdown",
   "metadata": {},
   "source": [
    "### 1.2.1 Bucketing user wise ratings\n",
    "\n",
    "In this section we will bucket ratings into bins and analyse them using barplot. This plot will help us get the idea of which bin has most of the rating and hence helping in tacklin sparsity of the data in next sections"
   ]
  },
  {
   "cell_type": "code",
   "execution_count": 9,
   "metadata": {},
   "outputs": [
    {
     "data": {
      "text/plain": [
       "Index(['A5JLAU2ARJ0BO', 'ADLVFFE4VBT8', 'A3OXHLG6DIBRW8', 'A6FIAB28IS79',\n",
       "       'A680RUE1FDO8B', 'A1ODOGXEYECQQ8', 'A36K2N527TXXJN', 'A2AY4YUOX2N1BQ',\n",
       "       'AWPODHOB4GFWL', 'A25C2M3QF9G7OQ',\n",
       "       ...\n",
       "       'A2HRAW9HMZHIDT', 'A2HRAXHLYHEQWQ', 'A2HRAYKYS0GUWM', 'A2HRB7LG0EQ71B',\n",
       "       'A2HRB87C2M7MDV', 'A2HRB8UOXH92SQ', 'A2HRBA4HO2E4GU', 'A2HRBCM00IDK56',\n",
       "       'A2HRBEBDTIB8MT', 'AZZZY1W55XHZR'],\n",
       "      dtype='object', name='userid', length=4201696)"
      ]
     },
     "execution_count": 9,
     "metadata": {},
     "output_type": "execute_result"
    }
   ],
   "source": [
    "data.groupby(by='userid',axis=0).agg({'rating':'count'}).sort_values(by='rating',ascending=False).index"
   ]
  },
  {
   "cell_type": "code",
   "execution_count": 10,
   "metadata": {},
   "outputs": [
    {
     "data": {
      "text/html": [
       "<div>\n",
       "<style scoped>\n",
       "    .dataframe tbody tr th:only-of-type {\n",
       "        vertical-align: middle;\n",
       "    }\n",
       "\n",
       "    .dataframe tbody tr th {\n",
       "        vertical-align: top;\n",
       "    }\n",
       "\n",
       "    .dataframe thead th {\n",
       "        text-align: right;\n",
       "    }\n",
       "</style>\n",
       "<table border=\"1\" class=\"dataframe\">\n",
       "  <thead>\n",
       "    <tr style=\"text-align: right;\">\n",
       "      <th></th>\n",
       "      <th>rating</th>\n",
       "      <th>bins</th>\n",
       "    </tr>\n",
       "    <tr>\n",
       "      <th>userid</th>\n",
       "      <th></th>\n",
       "      <th></th>\n",
       "    </tr>\n",
       "  </thead>\n",
       "  <tbody>\n",
       "    <tr>\n",
       "      <th>A5JLAU2ARJ0BO</th>\n",
       "      <td>520</td>\n",
       "      <td>(500, 550]</td>\n",
       "    </tr>\n",
       "    <tr>\n",
       "      <th>ADLVFFE4VBT8</th>\n",
       "      <td>501</td>\n",
       "      <td>(500, 550]</td>\n",
       "    </tr>\n",
       "    <tr>\n",
       "      <th>A3OXHLG6DIBRW8</th>\n",
       "      <td>498</td>\n",
       "      <td>(450, 500]</td>\n",
       "    </tr>\n",
       "    <tr>\n",
       "      <th>A6FIAB28IS79</th>\n",
       "      <td>431</td>\n",
       "      <td>(400, 450]</td>\n",
       "    </tr>\n",
       "    <tr>\n",
       "      <th>A680RUE1FDO8B</th>\n",
       "      <td>406</td>\n",
       "      <td>(400, 450]</td>\n",
       "    </tr>\n",
       "    <tr>\n",
       "      <th>...</th>\n",
       "      <td>...</td>\n",
       "      <td>...</td>\n",
       "    </tr>\n",
       "    <tr>\n",
       "      <th>A2HRB8UOXH92SQ</th>\n",
       "      <td>1</td>\n",
       "      <td>(0, 50]</td>\n",
       "    </tr>\n",
       "    <tr>\n",
       "      <th>A2HRBA4HO2E4GU</th>\n",
       "      <td>1</td>\n",
       "      <td>(0, 50]</td>\n",
       "    </tr>\n",
       "    <tr>\n",
       "      <th>A2HRBCM00IDK56</th>\n",
       "      <td>1</td>\n",
       "      <td>(0, 50]</td>\n",
       "    </tr>\n",
       "    <tr>\n",
       "      <th>A2HRBEBDTIB8MT</th>\n",
       "      <td>1</td>\n",
       "      <td>(0, 50]</td>\n",
       "    </tr>\n",
       "    <tr>\n",
       "      <th>AZZZY1W55XHZR</th>\n",
       "      <td>1</td>\n",
       "      <td>(0, 50]</td>\n",
       "    </tr>\n",
       "  </tbody>\n",
       "</table>\n",
       "<p>4201696 rows × 2 columns</p>\n",
       "</div>"
      ],
      "text/plain": [
       "                rating        bins\n",
       "userid                            \n",
       "A5JLAU2ARJ0BO      520  (500, 550]\n",
       "ADLVFFE4VBT8       501  (500, 550]\n",
       "A3OXHLG6DIBRW8     498  (450, 500]\n",
       "A6FIAB28IS79       431  (400, 450]\n",
       "A680RUE1FDO8B      406  (400, 450]\n",
       "...                ...         ...\n",
       "A2HRB8UOXH92SQ       1     (0, 50]\n",
       "A2HRBA4HO2E4GU       1     (0, 50]\n",
       "A2HRBCM00IDK56       1     (0, 50]\n",
       "A2HRBEBDTIB8MT       1     (0, 50]\n",
       "AZZZY1W55XHZR        1     (0, 50]\n",
       "\n",
       "[4201696 rows x 2 columns]"
      ]
     },
     "execution_count": 10,
     "metadata": {},
     "output_type": "execute_result"
    }
   ],
   "source": [
    "# Divide data into bins of 50 starting from 0  to 550\n",
    "df1= data.groupby(by='userid',axis=0).agg({'rating':'count'}).sort_values(by='rating',ascending=False)\n",
    "#df1[df1['rating']>50]\n",
    "bins = [0, 50, 100, 150, 200, 250, 300, 350, 400, 450, 500, 550]\n",
    "df1['bins'] = pd.cut(df1['rating'],bins)\n",
    "df1"
   ]
  },
  {
   "cell_type": "code",
   "execution_count": 11,
   "metadata": {},
   "outputs": [
    {
     "data": {
      "text/plain": [
       "Index(['rating', 'bins'], dtype='object')"
      ]
     },
     "execution_count": 11,
     "metadata": {},
     "output_type": "execute_result"
    }
   ],
   "source": [
    "df1.columns\n"
   ]
  },
  {
   "cell_type": "markdown",
   "metadata": {},
   "source": [
    "We can see that userid has become the index and there are only 2 columns ratings and bins"
   ]
  },
  {
   "cell_type": "code",
   "execution_count": 12,
   "metadata": {},
   "outputs": [
    {
     "data": {
      "text/plain": [
       "(0, 50]       4200230\n",
       "(50, 100]        1186\n",
       "(100, 150]        182\n",
       "(150, 200]         47\n",
       "(200, 250]         28\n",
       "(250, 300]         14\n",
       "(300, 350]          3\n",
       "(500, 550]          2\n",
       "(400, 450]          2\n",
       "(450, 500]          1\n",
       "(350, 400]          1\n",
       "Name: bins, dtype: int64"
      ]
     },
     "execution_count": 12,
     "metadata": {},
     "output_type": "execute_result"
    }
   ],
   "source": [
    "df1['bins'].value_counts()"
   ]
  },
  {
   "cell_type": "code",
   "execution_count": 13,
   "metadata": {},
   "outputs": [
    {
     "data": {
      "text/plain": [
       "(array([ 0,  1,  2,  3,  4,  5,  6,  7,  8,  9, 10]),\n",
       " <a list of 11 Text major ticklabel objects>)"
      ]
     },
     "execution_count": 13,
     "metadata": {},
     "output_type": "execute_result"
    },
    {
     "data": {
      "image/png": "[encoded data removed]",
      "text/plain": [
       "<Figure size 432x288 with 1 Axes>"
      ]
     },
     "metadata": {
      "needs_background": "light"
     },
     "output_type": "display_data"
    }
   ],
   "source": [
    "sns.countplot(df1['bins'])\n",
    "plt.xticks(rotation=45)"
   ]
  },
  {
   "cell_type": "code",
   "execution_count": 14,
   "metadata": {},
   "outputs": [
    {
     "name": "stdout",
     "output_type": "stream",
     "text": [
      "Number of users who have given less than 50 ratings are : 4200230 --> approx : 99.97 %\n",
      "Number of users who have given more than 50 ratings are : 1466 --> approx : 0.03 %\n"
     ]
    }
   ],
   "source": [
    "print('Number of users who have given less than 50 ratings are : {0} --> approx : {1:.2f} %'.format(df1['bins'].value_counts()[0],(df1['bins'].value_counts()[0]/data['userid'].nunique())*100))\n",
    "print('Number of users who have given more than 50 ratings are : {0} --> approx : {1:.2f} %'.format(data['userid'].nunique() - df1['bins'].value_counts()[0],((data['userid'].nunique() - df1['bins'].value_counts()[0])/data['userid'].nunique())*100))"
   ]
  },
  {
   "cell_type": "markdown",
   "metadata": {},
   "source": [
    "##### Insights:\n",
    "1. We can see from barplot as well as the value counts that only 0.03% users have rated more than 50 products, which is very small. \n",
    "2. We need to check the data in first bin 0-50"
   ]
  },
  {
   "cell_type": "code",
   "execution_count": 15,
   "metadata": {},
   "outputs": [
    {
     "data": {
      "text/plain": [
       "(0, 5]      4023027\n",
       "(5, 10]      127256\n",
       "(10, 15]      29019\n",
       "(15, 20]      10383\n",
       "(20, 25]       4688\n",
       "(25, 30]       2468\n",
       "(30, 35]       1505\n",
       "(35, 40]        831\n",
       "(40, 45]        612\n",
       "(45, 50]        441\n",
       "Name: bins2, dtype: int64"
      ]
     },
     "execution_count": 15,
     "metadata": {},
     "output_type": "execute_result"
    }
   ],
   "source": [
    "df1['bins'] = df1['bins'].apply(lambda x: str(x))\n",
    "df11 = df1[df1['bins'] == '(0, 50]']\n",
    "bins = np.arange(0,51,5)\n",
    "df11['bins2'] = pd.cut(df11['rating'],bins)\n",
    "df11['bins2'].value_counts()"
   ]
  },
  {
   "cell_type": "markdown",
   "metadata": {},
   "source": [
    "#####  Insights:\n",
    "By further drilling down we can see that about 4 million users have rated less than 5 products which is a little more than 95% of total number of users (4201696). This is crucial we will check this in the later sections"
   ]
  },
  {
   "cell_type": "markdown",
   "metadata": {},
   "source": [
    "### 1.2.2 Bucketing Product wise ratings"
   ]
  },
  {
   "cell_type": "code",
   "execution_count": 16,
   "metadata": {},
   "outputs": [
    {
     "data": {
      "text/html": [
       "<div>\n",
       "<style scoped>\n",
       "    .dataframe tbody tr th:only-of-type {\n",
       "        vertical-align: middle;\n",
       "    }\n",
       "\n",
       "    .dataframe tbody tr th {\n",
       "        vertical-align: top;\n",
       "    }\n",
       "\n",
       "    .dataframe thead th {\n",
       "        text-align: right;\n",
       "    }\n",
       "</style>\n",
       "<table border=\"1\" class=\"dataframe\">\n",
       "  <thead>\n",
       "    <tr style=\"text-align: right;\">\n",
       "      <th></th>\n",
       "      <th>rating</th>\n",
       "      <th>bins</th>\n",
       "    </tr>\n",
       "    <tr>\n",
       "      <th>productid</th>\n",
       "      <th></th>\n",
       "      <th></th>\n",
       "    </tr>\n",
       "  </thead>\n",
       "  <tbody>\n",
       "    <tr>\n",
       "      <th>B0074BW614</th>\n",
       "      <td>18244</td>\n",
       "      <td>(18000, 19000]</td>\n",
       "    </tr>\n",
       "    <tr>\n",
       "      <th>B00DR0PDNE</th>\n",
       "      <td>16454</td>\n",
       "      <td>(16000, 17000]</td>\n",
       "    </tr>\n",
       "    <tr>\n",
       "      <th>B007WTAJTO</th>\n",
       "      <td>14172</td>\n",
       "      <td>(14000, 15000]</td>\n",
       "    </tr>\n",
       "    <tr>\n",
       "      <th>B0019EHU8G</th>\n",
       "      <td>12285</td>\n",
       "      <td>(12000, 13000]</td>\n",
       "    </tr>\n",
       "    <tr>\n",
       "      <th>B006GWO5WK</th>\n",
       "      <td>12226</td>\n",
       "      <td>(12000, 13000]</td>\n",
       "    </tr>\n",
       "    <tr>\n",
       "      <th>...</th>\n",
       "      <td>...</td>\n",
       "      <td>...</td>\n",
       "    </tr>\n",
       "    <tr>\n",
       "      <th>B004WL91KI</th>\n",
       "      <td>1</td>\n",
       "      <td>(0, 1000]</td>\n",
       "    </tr>\n",
       "    <tr>\n",
       "      <th>B004WL9FK4</th>\n",
       "      <td>1</td>\n",
       "      <td>(0, 1000]</td>\n",
       "    </tr>\n",
       "    <tr>\n",
       "      <th>B004WL9Q2Q</th>\n",
       "      <td>1</td>\n",
       "      <td>(0, 1000]</td>\n",
       "    </tr>\n",
       "    <tr>\n",
       "      <th>B004WL9R8O</th>\n",
       "      <td>1</td>\n",
       "      <td>(0, 1000]</td>\n",
       "    </tr>\n",
       "    <tr>\n",
       "      <th>BT008V9J9U</th>\n",
       "      <td>1</td>\n",
       "      <td>(0, 1000]</td>\n",
       "    </tr>\n",
       "  </tbody>\n",
       "</table>\n",
       "<p>476002 rows × 2 columns</p>\n",
       "</div>"
      ],
      "text/plain": [
       "            rating            bins\n",
       "productid                         \n",
       "B0074BW614   18244  (18000, 19000]\n",
       "B00DR0PDNE   16454  (16000, 17000]\n",
       "B007WTAJTO   14172  (14000, 15000]\n",
       "B0019EHU8G   12285  (12000, 13000]\n",
       "B006GWO5WK   12226  (12000, 13000]\n",
       "...            ...             ...\n",
       "B004WL91KI       1       (0, 1000]\n",
       "B004WL9FK4       1       (0, 1000]\n",
       "B004WL9Q2Q       1       (0, 1000]\n",
       "B004WL9R8O       1       (0, 1000]\n",
       "BT008V9J9U       1       (0, 1000]\n",
       "\n",
       "[476002 rows x 2 columns]"
      ]
     },
     "execution_count": 16,
     "metadata": {},
     "output_type": "execute_result"
    }
   ],
   "source": [
    "df2 = data.groupby(by='productid',axis=0).agg({'rating':'count'}).sort_values(by='rating',ascending=False)\n",
    "bins = np.arange(0,20000,1000)\n",
    "df2['bins'] = pd.cut(df2['rating'],bins)\n",
    "df2\n"
   ]
  },
  {
   "cell_type": "code",
   "execution_count": 17,
   "metadata": {},
   "outputs": [],
   "source": [
    "df2['bins'] = df2['bins'].apply(lambda x: str(x))"
   ]
  },
  {
   "cell_type": "code",
   "execution_count": 18,
   "metadata": {},
   "outputs": [
    {
     "data": {
      "text/plain": [
       "(0, 1000]         475337\n",
       "(1000, 2000]         479\n",
       "(2000, 3000]          99\n",
       "(3000, 4000]          35\n",
       "(4000, 5000]          25\n",
       "(5000, 6000]           5\n",
       "(6000, 7000]           5\n",
       "(8000, 9000]           4\n",
       "(7000, 8000]           3\n",
       "(9000, 10000]          3\n",
       "(12000, 13000]         2\n",
       "(10000, 11000]         1\n",
       "(11000, 12000]         1\n",
       "(14000, 15000]         1\n",
       "(16000, 17000]         1\n",
       "(18000, 19000]         1\n",
       "(17000, 18000]         0\n",
       "(13000, 14000]         0\n",
       "(15000, 16000]         0\n",
       "Name: bins, dtype: int64"
      ]
     },
     "execution_count": 18,
     "metadata": {},
     "output_type": "execute_result"
    }
   ],
   "source": [
    "df2['bins'].value_counts()"
   ]
  },
  {
   "cell_type": "code",
   "execution_count": 19,
   "metadata": {},
   "outputs": [
    {
     "data": {
      "text/plain": [
       "(array([ 0,  1,  2,  3,  4,  5,  6,  7,  8,  9, 10, 11, 12, 13, 14, 15, 16,\n",
       "        17, 18]),\n",
       " <a list of 19 Text major ticklabel objects>)"
      ]
     },
     "execution_count": 19,
     "metadata": {},
     "output_type": "execute_result"
    },
    {
     "data": {
      "image/png": "[encoded data removed]",
      "text/plain": [
       "<Figure size 432x288 with 1 Axes>"
      ]
     },
     "metadata": {
      "needs_background": "light"
     },
     "output_type": "display_data"
    }
   ],
   "source": [
    "sns.countplot(df2['bins'])\n",
    "plt.xticks(rotation=45)"
   ]
  },
  {
   "cell_type": "code",
   "execution_count": 20,
   "metadata": {},
   "outputs": [
    {
     "name": "stdout",
     "output_type": "stream",
     "text": [
      "Number of Products who have received less than 1000 ratings are : 475337 --> approx : 99.86 %\n",
      "Number of Products who have received more than 1000 ratings are : 665 --> approx : 0.14 %\n"
     ]
    }
   ],
   "source": [
    "print('Number of Products who have received less than 1000 ratings are : {0} --> approx : {1:.2f} %'.format(df2['bins'].value_counts()[0],(df2['bins'].value_counts()[0]/data['productid'].nunique())*100))\n",
    "print('Number of Products who have received more than 1000 ratings are : {0} --> approx : {1:.2f} %'.format(data['productid'].nunique() - df2['bins'].value_counts()[0],((data['productid'].nunique() - df2['bins'].value_counts()[0])/data['productid'].nunique())*100))"
   ]
  },
  {
   "cell_type": "markdown",
   "metadata": {},
   "source": [
    "##### Insights:\n",
    "1. There are Total 476,002 unique products\n",
    "2. Out of these 99.86% i.e. 475,337 have received less thn 1000 ratings while 0.14% have received more than 1000 ratings. This will help us in deciding sparsity in further sections. We may have to further drill down into products with less than 1000 ratings.|"
   ]
  },
  {
   "cell_type": "markdown",
   "metadata": {},
   "source": [
    "### Check further division of items less than 1000 ratings"
   ]
  },
  {
   "cell_type": "code",
   "execution_count": 21,
   "metadata": {},
   "outputs": [
    {
     "data": {
      "text/plain": [
       "(0, 100]       462925\n",
       "(100, 200]       6992\n",
       "(200, 300]       2359\n",
       "(300, 400]       1190\n",
       "(400, 500]        666\n",
       "(500, 600]        443\n",
       "(600, 700]        277\n",
       "(700, 800]        209\n",
       "(800, 900]        153\n",
       "(900, 1000]       123\n",
       "Name: bins2, dtype: int64"
      ]
     },
     "execution_count": 21,
     "metadata": {},
     "output_type": "execute_result"
    }
   ],
   "source": [
    "bins = np.arange(0,1001,100)\n",
    "df21=df2[df2['bins'] == '(0, 1000]']\n",
    "df21['bins2'] = pd.cut(df21['rating'],bins)\n",
    "df21['bins2'].value_counts()"
   ]
  },
  {
   "cell_type": "markdown",
   "metadata": {},
   "source": [
    "##### Insights:\n",
    "It is clear that around 97% (462,925) products have received less than 100 ratings. Only 3% products have received more than 100 ratings"
   ]
  },
  {
   "cell_type": "markdown",
   "metadata": {},
   "source": [
    "## 1.3 Distribution of column 'Ratings'"
   ]
  },
  {
   "cell_type": "markdown",
   "metadata": {},
   "source": [
    "### 1.3.1 Overall distribution of ratings across dataset"
   ]
  },
  {
   "cell_type": "code",
   "execution_count": 22,
   "metadata": {},
   "outputs": [
    {
     "data": {
      "text/html": [
       "<div>\n",
       "<style scoped>\n",
       "    .dataframe tbody tr th:only-of-type {\n",
       "        vertical-align: middle;\n",
       "    }\n",
       "\n",
       "    .dataframe tbody tr th {\n",
       "        vertical-align: top;\n",
       "    }\n",
       "\n",
       "    .dataframe thead th {\n",
       "        text-align: right;\n",
       "    }\n",
       "</style>\n",
       "<table border=\"1\" class=\"dataframe\">\n",
       "  <thead>\n",
       "    <tr style=\"text-align: right;\">\n",
       "      <th></th>\n",
       "      <th>rating</th>\n",
       "      <th>counts</th>\n",
       "    </tr>\n",
       "  </thead>\n",
       "  <tbody>\n",
       "    <tr>\n",
       "      <th>0</th>\n",
       "      <td>1.0</td>\n",
       "      <td>901765</td>\n",
       "    </tr>\n",
       "    <tr>\n",
       "      <th>1</th>\n",
       "      <td>2.0</td>\n",
       "      <td>456322</td>\n",
       "    </tr>\n",
       "    <tr>\n",
       "      <th>2</th>\n",
       "      <td>3.0</td>\n",
       "      <td>633073</td>\n",
       "    </tr>\n",
       "    <tr>\n",
       "      <th>3</th>\n",
       "      <td>4.0</td>\n",
       "      <td>1485781</td>\n",
       "    </tr>\n",
       "    <tr>\n",
       "      <th>4</th>\n",
       "      <td>5.0</td>\n",
       "      <td>4347541</td>\n",
       "    </tr>\n",
       "  </tbody>\n",
       "</table>\n",
       "</div>"
      ],
      "text/plain": [
       "   rating   counts\n",
       "0     1.0   901765\n",
       "1     2.0   456322\n",
       "2     3.0   633073\n",
       "3     4.0  1485781\n",
       "4     5.0  4347541"
      ]
     },
     "execution_count": 22,
     "metadata": {},
     "output_type": "execute_result"
    }
   ],
   "source": [
    "df_rating = data.groupby(by='rating').agg({'userid':'count'})\n",
    "df_rating.reset_index(level=0,inplace=True)\n",
    "df_rating.rename(columns={'userid':'counts'},inplace=True)\n",
    "df_rating"
   ]
  },
  {
   "cell_type": "code",
   "execution_count": 23,
   "metadata": {},
   "outputs": [
    {
     "data": {
      "text/plain": [
       "Text(0.5, 1.0, 'Distribution of ratings')"
      ]
     },
     "execution_count": 23,
     "metadata": {},
     "output_type": "execute_result"
    },
    {
     "data": {
      "image/png": "[encoded data removed]",
      "text/plain": [
       "<Figure size 720x216 with 1 Axes>"
      ]
     },
     "metadata": {
      "needs_background": "light"
     },
     "output_type": "display_data"
    }
   ],
   "source": [
    "fig1,ax = plt.subplots(1,1,figsize=(10,3))\n",
    "splot = sns.barplot(x='rating',y='counts',data=df_rating,ax=ax)\n",
    "\n",
    "for p in splot.patches:\n",
    "    splot.annotate(format(p.get_height()/len(data)*100, '.2f') + '%', (p.get_x() + p.get_width() / 2., p.get_height()), ha = 'center', va = 'center', xytext = (0, 10), textcoords = 'offset points')\n",
    "\n",
    "plt.title('Distribution of ratings')"
   ]
  },
  {
   "cell_type": "markdown",
   "metadata": {},
   "source": [
    "##### Insights:\n",
    "1. Out of all the ratings in the dataset staggering 55.56% are 5.0 which means 55.56% combinations of user and products have rating 5\n",
    "2. Most of the combinations have rating 3 or higher and only 18% of total entries have ratings 1 and 2\n",
    "3. This is quite an imbalanced dataset interms of ratings"
   ]
  },
  {
   "cell_type": "markdown",
   "metadata": {},
   "source": [
    "### 1.3.1 Distribution of users and products with ratings"
   ]
  },
  {
   "cell_type": "code",
   "execution_count": 24,
   "metadata": {},
   "outputs": [
    {
     "data": {
      "text/plain": [
       "Text(0.5, 1.0, 'Distribution of users with ratings')"
      ]
     },
     "execution_count": 24,
     "metadata": {},
     "output_type": "execute_result"
    },
    {
     "data": {
      "image/png": "[encoded data removed]",
      "text/plain": [
       "<Figure size 432x288 with 1 Axes>"
      ]
     },
     "metadata": {
      "needs_background": "light"
     },
     "output_type": "display_data"
    }
   ],
   "source": [
    "sns.distplot(data['userid'].value_counts(),bins=10)\n",
    "plt.title('Distribution of users with ratings')\n"
   ]
  },
  {
   "cell_type": "markdown",
   "metadata": {},
   "source": [
    "##### Insights:\n",
    "1. Above plot represents distribution of users with ratings i.e how many users have given how many ratings\n",
    "2. We can see that distribution is right tailed and most of the users have given ratings for less than 50 products\n",
    "3. cummulatively there are very less number of users who have rated more than 50 products"
   ]
  },
  {
   "cell_type": "code",
   "execution_count": 25,
   "metadata": {},
   "outputs": [
    {
     "data": {
      "text/plain": [
       "Text(0.5, 1.0, 'Distribution of products with ratings')"
      ]
     },
     "execution_count": 25,
     "metadata": {},
     "output_type": "execute_result"
    },
    {
     "data": {
      "image/png": "[encoded data removed]",
      "text/plain": [
       "<Figure size 432x288 with 1 Axes>"
      ]
     },
     "metadata": {
      "needs_background": "light"
     },
     "output_type": "display_data"
    }
   ],
   "source": [
    "sns.distplot(data['productid'].value_counts(),bins=10)\n",
    "plt.title('Distribution of products with ratings')\n"
   ]
  },
  {
   "cell_type": "markdown",
   "metadata": {},
   "source": [
    "##### Insights:\n",
    "1. Above plot represents distribution of products with ratings i.e how many products have received how many ratings\n",
    "2. Distribution is right tailed and maximum number of products have received less than 2500 ratings\n",
    "3. products who have received ratings more than 2500 are very less in number cummulatively"
   ]
  },
  {
   "cell_type": "markdown",
   "metadata": {},
   "source": [
    "# <a id='2'>2. Handling Sparsity in Dataset<a>\n",
    "    \n",
    "    In this section we will extract only those users who have rated more than and equal to 50 products. We have seen in the above sections that there are only 1540 users who have done so.\n",
    "    \n",
    "#### Note: In instrucitons it has been asked to select a subset of dataset to make the dataset more denser. Its also suggested as an example to select number of users who have  rated atleast 50 products. However, in my opinion since we need to create Popularity based recommender system, we should choose products which have received more than 50 ratings to judge their popularity and not the users who have rated more than 50 products. Hence I have selected here 'Products which have recieved more than 50 ratings'"
   ]
  },
  {
   "cell_type": "markdown",
   "metadata": {},
   "source": [
    "### 2.1 Selecting a subset  - Users who have rated more than 50 products"
   ]
  },
  {
   "cell_type": "code",
   "execution_count": 26,
   "metadata": {},
   "outputs": [
    {
     "data": {
      "text/html": [
       "<div>\n",
       "<style scoped>\n",
       "    .dataframe tbody tr th:only-of-type {\n",
       "        vertical-align: middle;\n",
       "    }\n",
       "\n",
       "    .dataframe tbody tr th {\n",
       "        vertical-align: top;\n",
       "    }\n",
       "\n",
       "    .dataframe thead th {\n",
       "        text-align: right;\n",
       "    }\n",
       "</style>\n",
       "<table border=\"1\" class=\"dataframe\">\n",
       "  <thead>\n",
       "    <tr style=\"text-align: right;\">\n",
       "      <th></th>\n",
       "      <th>userid</th>\n",
       "      <th>productid</th>\n",
       "      <th>rating</th>\n",
       "    </tr>\n",
       "  </thead>\n",
       "  <tbody>\n",
       "    <tr>\n",
       "      <th>66537</th>\n",
       "      <td>A100UD67AHFODS</td>\n",
       "      <td>B00004Z5M1</td>\n",
       "      <td>5.0</td>\n",
       "    </tr>\n",
       "    <tr>\n",
       "      <th>123861</th>\n",
       "      <td>A100UD67AHFODS</td>\n",
       "      <td>B00005T3X7</td>\n",
       "      <td>5.0</td>\n",
       "    </tr>\n",
       "    <tr>\n",
       "      <th>165910</th>\n",
       "      <td>A100UD67AHFODS</td>\n",
       "      <td>B000069EUW</td>\n",
       "      <td>5.0</td>\n",
       "    </tr>\n",
       "    <tr>\n",
       "      <th>166702</th>\n",
       "      <td>A100UD67AHFODS</td>\n",
       "      <td>B000069JWX</td>\n",
       "      <td>1.0</td>\n",
       "    </tr>\n",
       "    <tr>\n",
       "      <th>322741</th>\n",
       "      <td>A100UD67AHFODS</td>\n",
       "      <td>B0000AR0I4</td>\n",
       "      <td>5.0</td>\n",
       "    </tr>\n",
       "    <tr>\n",
       "      <th>...</th>\n",
       "      <td>...</td>\n",
       "      <td>...</td>\n",
       "      <td>...</td>\n",
       "    </tr>\n",
       "    <tr>\n",
       "      <th>6859295</th>\n",
       "      <td>AZOK5STV85FBJ</td>\n",
       "      <td>B00AANMVNQ</td>\n",
       "      <td>5.0</td>\n",
       "    </tr>\n",
       "    <tr>\n",
       "      <th>7005691</th>\n",
       "      <td>AZOK5STV85FBJ</td>\n",
       "      <td>B00B25P27S</td>\n",
       "      <td>4.0</td>\n",
       "    </tr>\n",
       "    <tr>\n",
       "      <th>7087060</th>\n",
       "      <td>AZOK5STV85FBJ</td>\n",
       "      <td>B00BF6HVG4</td>\n",
       "      <td>5.0</td>\n",
       "    </tr>\n",
       "    <tr>\n",
       "      <th>7619713</th>\n",
       "      <td>AZOK5STV85FBJ</td>\n",
       "      <td>B00FB2XNCE</td>\n",
       "      <td>5.0</td>\n",
       "    </tr>\n",
       "    <tr>\n",
       "      <th>7811738</th>\n",
       "      <td>AZOK5STV85FBJ</td>\n",
       "      <td>B00JG5VV9O</td>\n",
       "      <td>4.0</td>\n",
       "    </tr>\n",
       "  </tbody>\n",
       "</table>\n",
       "<p>125871 rows × 3 columns</p>\n",
       "</div>"
      ],
      "text/plain": [
       "                 userid   productid  rating\n",
       "66537    A100UD67AHFODS  B00004Z5M1     5.0\n",
       "123861   A100UD67AHFODS  B00005T3X7     5.0\n",
       "165910   A100UD67AHFODS  B000069EUW     5.0\n",
       "166702   A100UD67AHFODS  B000069JWX     1.0\n",
       "322741   A100UD67AHFODS  B0000AR0I4     5.0\n",
       "...                 ...         ...     ...\n",
       "6859295   AZOK5STV85FBJ  B00AANMVNQ     5.0\n",
       "7005691   AZOK5STV85FBJ  B00B25P27S     4.0\n",
       "7087060   AZOK5STV85FBJ  B00BF6HVG4     5.0\n",
       "7619713   AZOK5STV85FBJ  B00FB2XNCE     5.0\n",
       "7811738   AZOK5STV85FBJ  B00JG5VV9O     4.0\n",
       "\n",
       "[125871 rows x 3 columns]"
      ]
     },
     "execution_count": 26,
     "metadata": {},
     "output_type": "execute_result"
    }
   ],
   "source": [
    "df_top_users = data.groupby(by='userid').agg({'rating':'count'}).sort_values(by='rating',ascending=False)\n",
    "df_top_users = df_top_users[df_top_users['rating']>=50]\n",
    "df_users = data[data['userid'].isin(list(df_top_users.index))].sort_values(by=['userid','productid'])\n",
    "df_users"
   ]
  },
  {
   "cell_type": "markdown",
   "metadata": {},
   "source": [
    "### 2.2 Selecting a subset - Products which have received more than 50 ratings\n",
    "\n",
    "1. We will create a dataframe by grouping by productid and and count of ratings.\n",
    "2. From this dataframe we will choose index od products with count  >=50.\n",
    "3. We will then create a separate dataframe with values from these indices in step2"
   ]
  },
  {
   "cell_type": "code",
   "execution_count": 27,
   "metadata": {},
   "outputs": [
    {
     "data": {
      "text/html": [
       "<div>\n",
       "<style scoped>\n",
       "    .dataframe tbody tr th:only-of-type {\n",
       "        vertical-align: middle;\n",
       "    }\n",
       "\n",
       "    .dataframe tbody tr th {\n",
       "        vertical-align: top;\n",
       "    }\n",
       "\n",
       "    .dataframe thead th {\n",
       "        text-align: right;\n",
       "    }\n",
       "</style>\n",
       "<table border=\"1\" class=\"dataframe\">\n",
       "  <thead>\n",
       "    <tr style=\"text-align: right;\">\n",
       "      <th></th>\n",
       "      <th>userid</th>\n",
       "      <th>productid</th>\n",
       "      <th>rating</th>\n",
       "    </tr>\n",
       "  </thead>\n",
       "  <tbody>\n",
       "    <tr>\n",
       "      <th>3588866</th>\n",
       "      <td>A00000262KYZUE4J55XGL</td>\n",
       "      <td>B003UYU16G</td>\n",
       "      <td>5.0</td>\n",
       "    </tr>\n",
       "    <tr>\n",
       "      <th>4120406</th>\n",
       "      <td>A00009661LC9LQPGKJ24G</td>\n",
       "      <td>B004GWQBWY</td>\n",
       "      <td>5.0</td>\n",
       "    </tr>\n",
       "    <tr>\n",
       "      <th>2837258</th>\n",
       "      <td>A00010809P09NUU6ZP6H</td>\n",
       "      <td>B002SSM5AU</td>\n",
       "      <td>5.0</td>\n",
       "    </tr>\n",
       "    <tr>\n",
       "      <th>7596618</th>\n",
       "      <td>A000145014WOTZJ5NSKOR</td>\n",
       "      <td>B00F3L19KQ</td>\n",
       "      <td>5.0</td>\n",
       "    </tr>\n",
       "    <tr>\n",
       "      <th>2150997</th>\n",
       "      <td>A00015222LZ55IJSVL5IX</td>\n",
       "      <td>B001MSVPM6</td>\n",
       "      <td>1.0</td>\n",
       "    </tr>\n",
       "    <tr>\n",
       "      <th>...</th>\n",
       "      <td>...</td>\n",
       "      <td>...</td>\n",
       "      <td>...</td>\n",
       "    </tr>\n",
       "    <tr>\n",
       "      <th>1906753</th>\n",
       "      <td>AZZZRS1YZ8HVP</td>\n",
       "      <td>B001CJOLBW</td>\n",
       "      <td>4.0</td>\n",
       "    </tr>\n",
       "    <tr>\n",
       "      <th>7440046</th>\n",
       "      <td>AZZZRS1YZ8HVP</td>\n",
       "      <td>B00DR0PDNE</td>\n",
       "      <td>4.0</td>\n",
       "    </tr>\n",
       "    <tr>\n",
       "      <th>6608010</th>\n",
       "      <td>AZZZSIK7NFFVP</td>\n",
       "      <td>B009FU8BR0</td>\n",
       "      <td>5.0</td>\n",
       "    </tr>\n",
       "    <tr>\n",
       "      <th>1749662</th>\n",
       "      <td>AZZZWXXUPZ1F3</td>\n",
       "      <td>B0016CFZQ0</td>\n",
       "      <td>5.0</td>\n",
       "    </tr>\n",
       "    <tr>\n",
       "      <th>2050878</th>\n",
       "      <td>AZZZY1W55XHZR</td>\n",
       "      <td>B001GS8G1U</td>\n",
       "      <td>4.0</td>\n",
       "    </tr>\n",
       "  </tbody>\n",
       "</table>\n",
       "<p>5374313 rows × 3 columns</p>\n",
       "</div>"
      ],
      "text/plain": [
       "                        userid   productid  rating\n",
       "3588866  A00000262KYZUE4J55XGL  B003UYU16G     5.0\n",
       "4120406  A00009661LC9LQPGKJ24G  B004GWQBWY     5.0\n",
       "2837258   A00010809P09NUU6ZP6H  B002SSM5AU     5.0\n",
       "7596618  A000145014WOTZJ5NSKOR  B00F3L19KQ     5.0\n",
       "2150997  A00015222LZ55IJSVL5IX  B001MSVPM6     1.0\n",
       "...                        ...         ...     ...\n",
       "1906753          AZZZRS1YZ8HVP  B001CJOLBW     4.0\n",
       "7440046          AZZZRS1YZ8HVP  B00DR0PDNE     4.0\n",
       "6608010          AZZZSIK7NFFVP  B009FU8BR0     5.0\n",
       "1749662          AZZZWXXUPZ1F3  B0016CFZQ0     5.0\n",
       "2050878          AZZZY1W55XHZR  B001GS8G1U     4.0\n",
       "\n",
       "[5374313 rows x 3 columns]"
      ]
     },
     "execution_count": 27,
     "metadata": {},
     "output_type": "execute_result"
    }
   ],
   "source": [
    "df_top_products = data.groupby(by='productid').agg({'rating':'count'}).sort_values(by='rating',ascending=False)\n",
    "df_top_products = df_top_products[df_top_products['rating']>=50]\n",
    "df_items = data[data['productid'].isin(list(df_top_products.index))].sort_values(by=['userid','productid'])\n",
    "df_items"
   ]
  },
  {
   "cell_type": "code",
   "execution_count": 28,
   "metadata": {},
   "outputs": [
    {
     "name": "stdout",
     "output_type": "stream",
     "text": [
      "Number of unique products withmore than 50 ratings: 26226\n"
     ]
    }
   ],
   "source": [
    "print('Number of unique products withmore than 50 ratings: {0}'.format(df_items['productid'].nunique()))\n"
   ]
  },
  {
   "cell_type": "markdown",
   "metadata": {},
   "source": [
    "### 2.3 Sparsity comparison\n",
    "\n",
    "Since now we have already selected users and products for those products who have recieved more than 50 ratings. \n",
    "Lets compare the original dataframe with this dataframe to check the sparsity and how much increase in density have we managed"
   ]
  },
  {
   "cell_type": "markdown",
   "metadata": {},
   "source": [
    "#### # Density of original data"
   ]
  },
  {
   "cell_type": "code",
   "execution_count": 29,
   "metadata": {},
   "outputs": [
    {
     "name": "stdout",
     "output_type": "stream",
     "text": [
      "Density of the original data: 3.912210290338533e-06\n"
     ]
    }
   ],
   "source": [
    "df_sparse = data.copy()\n",
    "df_sparse['userid'] = df_sparse['userid'].astype('category')\n",
    "df_sparse['productid'] = df_sparse['productid'].astype('category')\n",
    "rows = df_sparse['userid'].cat.codes\n",
    "cols = df_sparse['productid'].cat.codes\n",
    "rating = df_sparse['rating']\n",
    "mat_ratings = csr_matrix((rating, (rows, cols)))\n",
    "mat_ratings.eliminate_zeros()\n",
    "\n",
    "#density calculations\n",
    "sparse_density = mat_ratings.getnnz()/(mat_ratings.shape[0]*mat_ratings.shape[1])\n",
    "print('Density of the original data: {0}'.format(sparse_density))"
   ]
  },
  {
   "cell_type": "markdown",
   "metadata": {},
   "source": [
    "#### # Density after selecting products with more than 50 ratings"
   ]
  },
  {
   "cell_type": "code",
   "execution_count": 30,
   "metadata": {},
   "outputs": [
    {
     "name": "stdout",
     "output_type": "stream",
     "text": [
      "density after selecting products with more than 50 ratings: 6.353765044727139e-05\n"
     ]
    }
   ],
   "source": [
    "# compare here sparsity of the 2 dataframes\n",
    "df_sparse1 = df_items.copy()\n",
    "df_sparse1['userid'] = df_sparse1['userid'].astype('category')\n",
    "df_sparse1['productid'] = df_sparse1['productid'].astype('category')\n",
    "rows = df_sparse1['userid'].cat.codes\n",
    "cols = df_sparse1['productid'].cat.codes\n",
    "rating = df_sparse1['rating']\n",
    "mat_ratings_1 = csr_matrix((rating, (rows, cols)))\n",
    "mat_ratings_1.eliminate_zeros()\n",
    "\n",
    "#density calculations\n",
    "sparse_density1 = mat_ratings_1.getnnz()/(mat_ratings_1.shape[0]*mat_ratings_1.shape[1])\n",
    "print('density after selecting products with more than 50 ratings: {0}'.format(sparse_density1))\n",
    "\n"
   ]
  },
  {
   "cell_type": "code",
   "execution_count": 31,
   "metadata": {},
   "outputs": [
    {
     "name": "stdout",
     "output_type": "stream",
     "text": [
      "Percentage increase in density of the data : 93.84 %\n"
     ]
    }
   ],
   "source": [
    "increase = ((sparse_density1 - sparse_density)/sparse_density1)*100\n",
    "print('Percentage increase in density of the data : {0:.2f} %'.format(increase))"
   ]
  },
  {
   "cell_type": "markdown",
   "metadata": {},
   "source": [
    "##### Insights:\n",
    "1. There are total 5,374,313 observations for products which are given more than 50 ratings\n",
    "2. Total unique products in this list are: 26,226\n",
    "3. When products with more than 50 ratings has been selected, dataframe has become denser by 93%\n",
    "4. We will use this dataset 'df_items' to build Popularity based recommendation systems"
   ]
  },
  {
   "cell_type": "markdown",
   "metadata": {},
   "source": [
    "# <a id = '3'> 3. Popularity Based Recommender System <a>\n",
    "\n",
    "\n",
    "1. Our Target is to predict most popular items \n",
    "2. We also need to take care that the user has not already bought and rated that item\n",
    "3. all the users will be predicted the same products which are popular, except for those items which have already been bought and rated by that user"
   ]
  },
  {
   "cell_type": "markdown",
   "metadata": {},
   "source": [
    "## 3.1 Preparing the dataset"
   ]
  },
  {
   "cell_type": "code",
   "execution_count": 32,
   "metadata": {},
   "outputs": [
    {
     "data": {
      "text/html": [
       "<div>\n",
       "<style scoped>\n",
       "    .dataframe tbody tr th:only-of-type {\n",
       "        vertical-align: middle;\n",
       "    }\n",
       "\n",
       "    .dataframe tbody tr th {\n",
       "        vertical-align: top;\n",
       "    }\n",
       "\n",
       "    .dataframe thead th {\n",
       "        text-align: right;\n",
       "    }\n",
       "</style>\n",
       "<table border=\"1\" class=\"dataframe\">\n",
       "  <thead>\n",
       "    <tr style=\"text-align: right;\">\n",
       "      <th></th>\n",
       "      <th>productid</th>\n",
       "      <th>rating_count</th>\n",
       "      <th>mean_rating</th>\n",
       "    </tr>\n",
       "  </thead>\n",
       "  <tbody>\n",
       "    <tr>\n",
       "      <th>0</th>\n",
       "      <td>B0074BW614</td>\n",
       "      <td>18244</td>\n",
       "      <td>4.491504</td>\n",
       "    </tr>\n",
       "    <tr>\n",
       "      <th>1</th>\n",
       "      <td>B00DR0PDNE</td>\n",
       "      <td>16454</td>\n",
       "      <td>3.931020</td>\n",
       "    </tr>\n",
       "    <tr>\n",
       "      <th>2</th>\n",
       "      <td>B007WTAJTO</td>\n",
       "      <td>14172</td>\n",
       "      <td>4.424005</td>\n",
       "    </tr>\n",
       "    <tr>\n",
       "      <th>3</th>\n",
       "      <td>B0019EHU8G</td>\n",
       "      <td>12285</td>\n",
       "      <td>4.754497</td>\n",
       "    </tr>\n",
       "    <tr>\n",
       "      <th>4</th>\n",
       "      <td>B006GWO5WK</td>\n",
       "      <td>12226</td>\n",
       "      <td>4.314657</td>\n",
       "    </tr>\n",
       "    <tr>\n",
       "      <th>...</th>\n",
       "      <td>...</td>\n",
       "      <td>...</td>\n",
       "      <td>...</td>\n",
       "    </tr>\n",
       "    <tr>\n",
       "      <th>26221</th>\n",
       "      <td>B002653KNQ</td>\n",
       "      <td>50</td>\n",
       "      <td>3.400000</td>\n",
       "    </tr>\n",
       "    <tr>\n",
       "      <th>26222</th>\n",
       "      <td>B001W81LZ2</td>\n",
       "      <td>50</td>\n",
       "      <td>3.020000</td>\n",
       "    </tr>\n",
       "    <tr>\n",
       "      <th>26223</th>\n",
       "      <td>B0001G6UES</td>\n",
       "      <td>50</td>\n",
       "      <td>4.060000</td>\n",
       "    </tr>\n",
       "    <tr>\n",
       "      <th>26224</th>\n",
       "      <td>B008NC8IB0</td>\n",
       "      <td>50</td>\n",
       "      <td>3.540000</td>\n",
       "    </tr>\n",
       "    <tr>\n",
       "      <th>26225</th>\n",
       "      <td>B0012Y6VQA</td>\n",
       "      <td>50</td>\n",
       "      <td>3.520000</td>\n",
       "    </tr>\n",
       "  </tbody>\n",
       "</table>\n",
       "<p>26226 rows × 3 columns</p>\n",
       "</div>"
      ],
      "text/plain": [
       "        productid  rating_count  mean_rating\n",
       "0      B0074BW614         18244     4.491504\n",
       "1      B00DR0PDNE         16454     3.931020\n",
       "2      B007WTAJTO         14172     4.424005\n",
       "3      B0019EHU8G         12285     4.754497\n",
       "4      B006GWO5WK         12226     4.314657\n",
       "...           ...           ...          ...\n",
       "26221  B002653KNQ            50     3.400000\n",
       "26222  B001W81LZ2            50     3.020000\n",
       "26223  B0001G6UES            50     4.060000\n",
       "26224  B008NC8IB0            50     3.540000\n",
       "26225  B0012Y6VQA            50     3.520000\n",
       "\n",
       "[26226 rows x 3 columns]"
      ]
     },
     "execution_count": 32,
     "metadata": {},
     "output_type": "execute_result"
    }
   ],
   "source": [
    "df_prod = df_items.groupby(by='productid',axis=0).agg({'userid':'count','rating':'mean'}).sort_values(by='userid',ascending=False)\n",
    "df_prod.reset_index(level=0,inplace=True)\n",
    "df_prod.rename(columns={'userid':'rating_count','rating':'mean_rating'},inplace=True)\n",
    "df_prod"
   ]
  },
  {
   "cell_type": "markdown",
   "metadata": {},
   "source": [
    "##### Insights:\n",
    "1. Using group by we have a dataframe with single row for each product, NUmber of ratings for that product and mean rating of the product\n",
    "2. rating count shows that the product is bought very frequently while mean rating demonstrtates weather the product is liked by the user or not"
   ]
  },
  {
   "cell_type": "markdown",
   "metadata": {},
   "source": [
    "## 3.2 Most popular items by Rating count\n",
    "\n",
    "In this case we will assume that an item which has more number of ratings is purchased more frequently and hence popular.\n",
    "Since we have already removed items which have low number of ratings, we can just sort and get top 10 recommendation for all users"
   ]
  },
  {
   "cell_type": "code",
   "execution_count": 33,
   "metadata": {},
   "outputs": [
    {
     "data": {
      "text/html": [
       "<div>\n",
       "<style scoped>\n",
       "    .dataframe tbody tr th:only-of-type {\n",
       "        vertical-align: middle;\n",
       "    }\n",
       "\n",
       "    .dataframe tbody tr th {\n",
       "        vertical-align: top;\n",
       "    }\n",
       "\n",
       "    .dataframe thead th {\n",
       "        text-align: right;\n",
       "    }\n",
       "</style>\n",
       "<table border=\"1\" class=\"dataframe\">\n",
       "  <thead>\n",
       "    <tr style=\"text-align: right;\">\n",
       "      <th></th>\n",
       "      <th>productid</th>\n",
       "      <th>rating_count</th>\n",
       "      <th>mean_rating</th>\n",
       "    </tr>\n",
       "  </thead>\n",
       "  <tbody>\n",
       "    <tr>\n",
       "      <th>0</th>\n",
       "      <td>B0074BW614</td>\n",
       "      <td>18244</td>\n",
       "      <td>4.491504</td>\n",
       "    </tr>\n",
       "    <tr>\n",
       "      <th>1</th>\n",
       "      <td>B00DR0PDNE</td>\n",
       "      <td>16454</td>\n",
       "      <td>3.931020</td>\n",
       "    </tr>\n",
       "    <tr>\n",
       "      <th>2</th>\n",
       "      <td>B007WTAJTO</td>\n",
       "      <td>14172</td>\n",
       "      <td>4.424005</td>\n",
       "    </tr>\n",
       "    <tr>\n",
       "      <th>3</th>\n",
       "      <td>B0019EHU8G</td>\n",
       "      <td>12285</td>\n",
       "      <td>4.754497</td>\n",
       "    </tr>\n",
       "    <tr>\n",
       "      <th>4</th>\n",
       "      <td>B006GWO5WK</td>\n",
       "      <td>12226</td>\n",
       "      <td>4.314657</td>\n",
       "    </tr>\n",
       "    <tr>\n",
       "      <th>5</th>\n",
       "      <td>B003ELYQGG</td>\n",
       "      <td>11617</td>\n",
       "      <td>4.392528</td>\n",
       "    </tr>\n",
       "    <tr>\n",
       "      <th>6</th>\n",
       "      <td>B003ES5ZUU</td>\n",
       "      <td>10276</td>\n",
       "      <td>4.704749</td>\n",
       "    </tr>\n",
       "    <tr>\n",
       "      <th>7</th>\n",
       "      <td>B007R5YDYA</td>\n",
       "      <td>9907</td>\n",
       "      <td>4.690926</td>\n",
       "    </tr>\n",
       "    <tr>\n",
       "      <th>8</th>\n",
       "      <td>B00622AG6S</td>\n",
       "      <td>9823</td>\n",
       "      <td>4.420136</td>\n",
       "    </tr>\n",
       "    <tr>\n",
       "      <th>9</th>\n",
       "      <td>B0002L5R78</td>\n",
       "      <td>9487</td>\n",
       "      <td>4.448614</td>\n",
       "    </tr>\n",
       "  </tbody>\n",
       "</table>\n",
       "</div>"
      ],
      "text/plain": [
       "    productid  rating_count  mean_rating\n",
       "0  B0074BW614         18244     4.491504\n",
       "1  B00DR0PDNE         16454     3.931020\n",
       "2  B007WTAJTO         14172     4.424005\n",
       "3  B0019EHU8G         12285     4.754497\n",
       "4  B006GWO5WK         12226     4.314657\n",
       "5  B003ELYQGG         11617     4.392528\n",
       "6  B003ES5ZUU         10276     4.704749\n",
       "7  B007R5YDYA          9907     4.690926\n",
       "8  B00622AG6S          9823     4.420136\n",
       "9  B0002L5R78          9487     4.448614"
      ]
     },
     "execution_count": 33,
     "metadata": {},
     "output_type": "execute_result"
    }
   ],
   "source": [
    "popular_items_rating_count = df_prod.sort_values(by='rating_count',ascending=False)\n",
    "popular_items_rating_count[:10]\n"
   ]
  },
  {
   "cell_type": "code",
   "execution_count": 34,
   "metadata": {},
   "outputs": [
    {
     "data": {
      "text/plain": [
       "Text(0.5, 1.0, '10 Most popular item - based on number of ratings')"
      ]
     },
     "execution_count": 34,
     "metadata": {},
     "output_type": "execute_result"
    },
    {
     "data": {
      "image/png": "[encoded data removed]",
      "text/plain": [
       "<Figure size 432x288 with 1 Axes>"
      ]
     },
     "metadata": {
      "needs_background": "light"
     },
     "output_type": "display_data"
    }
   ],
   "source": [
    "sns.barplot(x='productid',y='rating_count',data=popular_items_rating_count[:10])\n",
    "plt.xticks(rotation=90)\n",
    "plt.title('10 Most popular item - based on number of ratings')"
   ]
  },
  {
   "cell_type": "markdown",
   "metadata": {},
   "source": [
    "## 3.3 Most popular items by Rating (mean rating)\n",
    "\n",
    "In this case we will assume that an item which has got highest mean rating is most popular. Since we have already removed items which have low number of ratings, we can just sort the dataframe on 'mean rating' and get top 10 recommendations"
   ]
  },
  {
   "cell_type": "code",
   "execution_count": 35,
   "metadata": {},
   "outputs": [
    {
     "data": {
      "text/html": [
       "<div>\n",
       "<style scoped>\n",
       "    .dataframe tbody tr th:only-of-type {\n",
       "        vertical-align: middle;\n",
       "    }\n",
       "\n",
       "    .dataframe tbody tr th {\n",
       "        vertical-align: top;\n",
       "    }\n",
       "\n",
       "    .dataframe thead th {\n",
       "        text-align: right;\n",
       "    }\n",
       "</style>\n",
       "<table border=\"1\" class=\"dataframe\">\n",
       "  <thead>\n",
       "    <tr style=\"text-align: right;\">\n",
       "      <th></th>\n",
       "      <th>productid</th>\n",
       "      <th>rating_count</th>\n",
       "      <th>mean_rating</th>\n",
       "    </tr>\n",
       "  </thead>\n",
       "  <tbody>\n",
       "    <tr>\n",
       "      <th>25757</th>\n",
       "      <td>B002E6R7NG</td>\n",
       "      <td>51</td>\n",
       "      <td>4.980392</td>\n",
       "    </tr>\n",
       "    <tr>\n",
       "      <th>21682</th>\n",
       "      <td>B004I763AW</td>\n",
       "      <td>60</td>\n",
       "      <td>4.966667</td>\n",
       "    </tr>\n",
       "    <tr>\n",
       "      <th>23376</th>\n",
       "      <td>B003J9QQWU</td>\n",
       "      <td>56</td>\n",
       "      <td>4.964286</td>\n",
       "    </tr>\n",
       "    <tr>\n",
       "      <th>14660</th>\n",
       "      <td>B0043ZLFXE</td>\n",
       "      <td>90</td>\n",
       "      <td>4.955556</td>\n",
       "    </tr>\n",
       "    <tr>\n",
       "      <th>20620</th>\n",
       "      <td>B000TMFYBO</td>\n",
       "      <td>64</td>\n",
       "      <td>4.953125</td>\n",
       "    </tr>\n",
       "    <tr>\n",
       "      <th>6605</th>\n",
       "      <td>B00GMRCAC6</td>\n",
       "      <td>187</td>\n",
       "      <td>4.951872</td>\n",
       "    </tr>\n",
       "    <tr>\n",
       "      <th>12777</th>\n",
       "      <td>B008I6RVZU</td>\n",
       "      <td>103</td>\n",
       "      <td>4.951456</td>\n",
       "    </tr>\n",
       "    <tr>\n",
       "      <th>4966</th>\n",
       "      <td>B00CG70K78</td>\n",
       "      <td>237</td>\n",
       "      <td>4.949367</td>\n",
       "    </tr>\n",
       "    <tr>\n",
       "      <th>17276</th>\n",
       "      <td>B0000DYV9H</td>\n",
       "      <td>76</td>\n",
       "      <td>4.947368</td>\n",
       "    </tr>\n",
       "    <tr>\n",
       "      <th>7563</th>\n",
       "      <td>B000053HC5</td>\n",
       "      <td>166</td>\n",
       "      <td>4.945783</td>\n",
       "    </tr>\n",
       "  </tbody>\n",
       "</table>\n",
       "</div>"
      ],
      "text/plain": [
       "        productid  rating_count  mean_rating\n",
       "25757  B002E6R7NG            51     4.980392\n",
       "21682  B004I763AW            60     4.966667\n",
       "23376  B003J9QQWU            56     4.964286\n",
       "14660  B0043ZLFXE            90     4.955556\n",
       "20620  B000TMFYBO            64     4.953125\n",
       "6605   B00GMRCAC6           187     4.951872\n",
       "12777  B008I6RVZU           103     4.951456\n",
       "4966   B00CG70K78           237     4.949367\n",
       "17276  B0000DYV9H            76     4.947368\n",
       "7563   B000053HC5           166     4.945783"
      ]
     },
     "execution_count": 35,
     "metadata": {},
     "output_type": "execute_result"
    }
   ],
   "source": [
    "popular_items_mean_rating = df_prod.sort_values(by='mean_rating',ascending=False)\n",
    "popular_items_mean_rating[:10]"
   ]
  },
  {
   "cell_type": "code",
   "execution_count": 36,
   "metadata": {},
   "outputs": [
    {
     "data": {
      "text/plain": [
       "Text(0.5, 1.0, '10 Most popular item - based on mean ratings')"
      ]
     },
     "execution_count": 36,
     "metadata": {},
     "output_type": "execute_result"
    },
    {
     "data": {
      "image/png": "[encoded data removed]",
      "text/plain": [
       "<Figure size 432x288 with 1 Axes>"
      ]
     },
     "metadata": {
      "needs_background": "light"
     },
     "output_type": "display_data"
    }
   ],
   "source": [
    "sns.barplot(x='productid',y='mean_rating',data=popular_items_mean_rating[:10])\n",
    "plt.xticks(rotation=90)\n",
    "plt.title('10 Most popular item - based on mean ratings')"
   ]
  },
  {
   "cell_type": "markdown",
   "metadata": {},
   "source": [
    "##### Insights:\n",
    "1. Difficult to interpret mean rating based sorted items as the mean ratings are very near to each other"
   ]
  },
  {
   "cell_type": "markdown",
   "metadata": {},
   "source": [
    "## 3.4 User specific recommendations\n",
    "\n",
    "#### We will recommend top 5 items to each user which they have not already bought or rated so far\n",
    "\n",
    "In this section we will select top ratings based on number of ratings a product has received for each user and predict only those items which have NOT been bought and rated by the user.\n",
    "\n",
    "We will make use of complete dataset to get complete list of users and dataframe df_prod to get popularity based items prepared in section 3.1\n",
    "\n",
    "In this case we will recommend only top 5 items\n",
    "\n",
    "For the sake of simplicity we will predict products for only 100 users"
   ]
  },
  {
   "cell_type": "code",
   "execution_count": 37,
   "metadata": {},
   "outputs": [],
   "source": [
    "def reco_popularity(user):\n",
    "    lst_reco_items = []\n",
    "    lst_popular_items = list(popular_items_rating_count['productid'])\n",
    "    existing_items = list(data[data['userid']==user]['productid'])\n",
    "    for pitem in lst_popular_items:\n",
    "        if pitem not in existing_items:\n",
    "            lst_reco_items.append(pitem)\n",
    "        if len(lst_reco_items) == 5:\n",
    "            break\n",
    "    \n",
    "    return lst_reco_items"
   ]
  },
  {
   "cell_type": "code",
   "execution_count": 38,
   "metadata": {
    "scrolled": true
   },
   "outputs": [],
   "source": [
    "# in lst_users we are gathering 100 users for the sake of demonstaration\n",
    "# Since there are millions of users we will demonstrate this only for 100 users\n",
    "# this list is of those users who have given maximum number of ratings for products\n",
    "lst_users = list(data.groupby(by='userid',axis=0).agg({'rating':'count'}).sort_values(by='rating',ascending=False).index)\n"
   ]
  },
  {
   "cell_type": "code",
   "execution_count": 39,
   "metadata": {},
   "outputs": [],
   "source": [
    "df_recommendations = pd.DataFrame(columns=['User','Recommendations-Popularity'])\n",
    "\n",
    "for user in lst_users[:100]:\n",
    "    df_recommendations.loc[len(df_recommendations)] = [user, reco_popularity(user)]\n",
    "        "
   ]
  },
  {
   "cell_type": "code",
   "execution_count": 40,
   "metadata": {
    "scrolled": false
   },
   "outputs": [
    {
     "name": "stdout",
     "output_type": "stream",
     "text": [
      "Most popular 5 items recommendation for 100 users\n"
     ]
    },
    {
     "data": {
      "text/html": [
       "<div>\n",
       "<style scoped>\n",
       "    .dataframe tbody tr th:only-of-type {\n",
       "        vertical-align: middle;\n",
       "    }\n",
       "\n",
       "    .dataframe tbody tr th {\n",
       "        vertical-align: top;\n",
       "    }\n",
       "\n",
       "    .dataframe thead th {\n",
       "        text-align: right;\n",
       "    }\n",
       "</style>\n",
       "<table border=\"1\" class=\"dataframe\">\n",
       "  <thead>\n",
       "    <tr style=\"text-align: right;\">\n",
       "      <th></th>\n",
       "      <th>User</th>\n",
       "      <th>Recommendations-Popularity</th>\n",
       "    </tr>\n",
       "  </thead>\n",
       "  <tbody>\n",
       "    <tr>\n",
       "      <th>0</th>\n",
       "      <td>A5JLAU2ARJ0BO</td>\n",
       "      <td>[B0074BW614, B00DR0PDNE, B007WTAJTO, B0019EHU8...</td>\n",
       "    </tr>\n",
       "    <tr>\n",
       "      <th>1</th>\n",
       "      <td>ADLVFFE4VBT8</td>\n",
       "      <td>[B00DR0PDNE, B007WTAJTO, B003ELYQGG, B007R5YDY...</td>\n",
       "    </tr>\n",
       "    <tr>\n",
       "      <th>2</th>\n",
       "      <td>A3OXHLG6DIBRW8</td>\n",
       "      <td>[B007WTAJTO, B006GWO5WK, B003ELYQGG, B007R5YDY...</td>\n",
       "    </tr>\n",
       "    <tr>\n",
       "      <th>3</th>\n",
       "      <td>A6FIAB28IS79</td>\n",
       "      <td>[B007WTAJTO, B0019EHU8G, B006GWO5WK, B003ES5ZU...</td>\n",
       "    </tr>\n",
       "    <tr>\n",
       "      <th>4</th>\n",
       "      <td>A680RUE1FDO8B</td>\n",
       "      <td>[B0074BW614, B00DR0PDNE, B006GWO5WK, B003ELYQG...</td>\n",
       "    </tr>\n",
       "    <tr>\n",
       "      <th>...</th>\n",
       "      <td>...</td>\n",
       "      <td>...</td>\n",
       "    </tr>\n",
       "    <tr>\n",
       "      <th>95</th>\n",
       "      <td>A3W4D8XOGLWUN5</td>\n",
       "      <td>[B0074BW614, B00DR0PDNE, B0019EHU8G, B006GWO5W...</td>\n",
       "    </tr>\n",
       "    <tr>\n",
       "      <th>96</th>\n",
       "      <td>A17HMM1M7T9PJ1</td>\n",
       "      <td>[B0074BW614, B00DR0PDNE, B007WTAJTO, B0019EHU8...</td>\n",
       "    </tr>\n",
       "    <tr>\n",
       "      <th>97</th>\n",
       "      <td>A32O5FZH994CNY</td>\n",
       "      <td>[B0074BW614, B00DR0PDNE, B007WTAJTO, B0019EHU8...</td>\n",
       "    </tr>\n",
       "    <tr>\n",
       "      <th>98</th>\n",
       "      <td>A225G2TFM76GYX</td>\n",
       "      <td>[B0074BW614, B00DR0PDNE, B007WTAJTO, B0019EHU8...</td>\n",
       "    </tr>\n",
       "    <tr>\n",
       "      <th>99</th>\n",
       "      <td>A18S2VGUH9SCV5</td>\n",
       "      <td>[B0074BW614, B00DR0PDNE, B007WTAJTO, B0019EHU8...</td>\n",
       "    </tr>\n",
       "  </tbody>\n",
       "</table>\n",
       "<p>100 rows × 2 columns</p>\n",
       "</div>"
      ],
      "text/plain": [
       "              User                         Recommendations-Popularity\n",
       "0    A5JLAU2ARJ0BO  [B0074BW614, B00DR0PDNE, B007WTAJTO, B0019EHU8...\n",
       "1     ADLVFFE4VBT8  [B00DR0PDNE, B007WTAJTO, B003ELYQGG, B007R5YDY...\n",
       "2   A3OXHLG6DIBRW8  [B007WTAJTO, B006GWO5WK, B003ELYQGG, B007R5YDY...\n",
       "3     A6FIAB28IS79  [B007WTAJTO, B0019EHU8G, B006GWO5WK, B003ES5ZU...\n",
       "4    A680RUE1FDO8B  [B0074BW614, B00DR0PDNE, B006GWO5WK, B003ELYQG...\n",
       "..             ...                                                ...\n",
       "95  A3W4D8XOGLWUN5  [B0074BW614, B00DR0PDNE, B0019EHU8G, B006GWO5W...\n",
       "96  A17HMM1M7T9PJ1  [B0074BW614, B00DR0PDNE, B007WTAJTO, B0019EHU8...\n",
       "97  A32O5FZH994CNY  [B0074BW614, B00DR0PDNE, B007WTAJTO, B0019EHU8...\n",
       "98  A225G2TFM76GYX  [B0074BW614, B00DR0PDNE, B007WTAJTO, B0019EHU8...\n",
       "99  A18S2VGUH9SCV5  [B0074BW614, B00DR0PDNE, B007WTAJTO, B0019EHU8...\n",
       "\n",
       "[100 rows x 2 columns]"
      ]
     },
     "execution_count": 40,
     "metadata": {},
     "output_type": "execute_result"
    }
   ],
   "source": [
    "print(\"Most popular 5 items recommendation for 100 users\")\n",
    "df_recommendations"
   ]
  },
  {
   "cell_type": "markdown",
   "metadata": {},
   "source": [
    "### 3.5 Recommendations for single user based on user input"
   ]
  },
  {
   "cell_type": "code",
   "execution_count": 41,
   "metadata": {},
   "outputs": [
    {
     "name": "stdout",
     "output_type": "stream",
     "text": [
      "Items recommended for users A5JLAU2ARJ0BO are : ['B0074BW614', 'B00DR0PDNE', 'B007WTAJTO', 'B0019EHU8G', 'B006GWO5WK']\n"
     ]
    }
   ],
   "source": [
    "print(\"Items recommended for users A5JLAU2ARJ0BO are : {}\".format(reco_popularity('A5JLAU2ARJ0BO')))"
   ]
  },
  {
   "cell_type": "markdown",
   "metadata": {},
   "source": [
    "## <a id='4'> 4. Splitting the dataset <a>\n",
    "\n",
    "    In this case we will use the same dataset df_items with products having ratings more than 50\n",
    "    "
   ]
  },
  {
   "cell_type": "code",
   "execution_count": 42,
   "metadata": {},
   "outputs": [],
   "source": [
    "from surprise import KNNWithMeans, SVD\n",
    "from surprise.model_selection import train_test_split,KFold\n",
    "from surprise import accuracy\n",
    "from surprise import Dataset\n",
    "from surprise import Reader"
   ]
  },
  {
   "cell_type": "code",
   "execution_count": 43,
   "metadata": {},
   "outputs": [],
   "source": [
    "reader = Reader(rating_scale=(1, 5))\n",
    "input_data = Dataset.load_from_df(df_items,reader=reader)\n",
    "trainset, testset = train_test_split(input_data,test_size=0.30)"
   ]
  },
  {
   "cell_type": "markdown",
   "metadata": {},
   "source": [
    "## <a id='5'>5. Collaborative Filtering based Recommendation System <a>\n",
    "    \n",
    "We will use surprise library and KNNwithmens and SVD algorithms.\n",
    "    \n",
    "Evaluation will be based on 'Root Mean Square Error (RMSE) and Mean Absolute Error(MAE)\n",
    "    \n"
   ]
  },
  {
   "cell_type": "markdown",
   "metadata": {},
   "source": [
    "## 5.1 Recommendation System using KNNwithmeans()"
   ]
  },
  {
   "cell_type": "markdown",
   "metadata": {},
   "source": [
    "### 5.1.1 Building algorithm"
   ]
  },
  {
   "cell_type": "code",
   "execution_count": 44,
   "metadata": {},
   "outputs": [
    {
     "name": "stdout",
     "output_type": "stream",
     "text": [
      "Estimating biases using als...\n",
      "Computing the pearson_baseline similarity matrix...\n",
      "Done computing similarity matrix.\n"
     ]
    },
    {
     "data": {
      "text/plain": [
       "<surprise.prediction_algorithms.knns.KNNWithMeans at 0x10e0074e1d0>"
      ]
     },
     "execution_count": 44,
     "metadata": {},
     "output_type": "execute_result"
    }
   ],
   "source": [
    "# Item-item similarity\n",
    "algo = KNNWithMeans(k=10,sim_options={'name':'pearson_baseline','user_based':False}) \n",
    "algo.fit(trainset)"
   ]
  },
  {
   "cell_type": "markdown",
   "metadata": {},
   "source": [
    "### 5.1.2 Predicting"
   ]
  },
  {
   "cell_type": "code",
   "execution_count": 45,
   "metadata": {},
   "outputs": [],
   "source": [
    "preds_testset = algo.test(testset)"
   ]
  },
  {
   "cell_type": "markdown",
   "metadata": {},
   "source": [
    "### 5.1.3 Evaluation\n",
    "Following function shall build a dataframe for collecting RMS and MAE for each algorithm."
   ]
  },
  {
   "cell_type": "code",
   "execution_count": 46,
   "metadata": {},
   "outputs": [],
   "source": [
    "#following function and dataframe shall be used for most \n",
    "df_RMSE = pd.DataFrame(columns=['Model','RMSE', 'MAE'])\n",
    "def rmse_calculation(predictions, model_name):\n",
    "    rmse = accuracy.rmse(predictions)\n",
    "    mae = accuracy.mae(predictions)\n",
    "    print('RMSE - {0}: {1:.4f}'.format(model_name,rmse))\n",
    "    df_RMSE.loc[len(df_RMSE)] = [model_name,rmse,mae]"
   ]
  },
  {
   "cell_type": "code",
   "execution_count": 47,
   "metadata": {},
   "outputs": [
    {
     "name": "stdout",
     "output_type": "stream",
     "text": [
      "RMSE: 1.3342\n",
      "MAE:  1.0308\n",
      "RMSE - KNNwithmeans: 1.3342\n"
     ]
    }
   ],
   "source": [
    "rmse_calculation(preds_testset,'KNNwithmeans')"
   ]
  },
  {
   "cell_type": "markdown",
   "metadata": {},
   "source": [
    "### 5.1.4 Cross validate KNN with means"
   ]
  },
  {
   "cell_type": "code",
   "execution_count": 48,
   "metadata": {},
   "outputs": [],
   "source": [
    "from surprise.model_selection import cross_validate\n",
    "cv_knnmeans = cross_validate(algo,input_data,cv=5,n_jobs=-1)"
   ]
  },
  {
   "cell_type": "code",
   "execution_count": 49,
   "metadata": {},
   "outputs": [
    {
     "data": {
      "text/plain": [
       "{'test_rmse': array([1.33581896, 1.33463139, 1.33527293, 1.33629824, 1.33511195]),\n",
       " 'test_mae': array([1.02794364, 1.02672284, 1.02761279, 1.02824759, 1.02796629]),\n",
       " 'fit_time': (400.4766957759857,\n",
       "  557.949517250061,\n",
       "  537.922425031662,\n",
       "  387.4380977153778,\n",
       "  169.46426510810852),\n",
       " 'test_time': (157.14521074295044,\n",
       "  18.656163930892944,\n",
       "  27.558812856674194,\n",
       "  29.203767776489258,\n",
       "  18.222814798355103)}"
      ]
     },
     "execution_count": 49,
     "metadata": {},
     "output_type": "execute_result"
    }
   ],
   "source": [
    "cv_knnmeans"
   ]
  },
  {
   "cell_type": "code",
   "execution_count": 50,
   "metadata": {},
   "outputs": [
    {
     "name": "stdout",
     "output_type": "stream",
     "text": [
      "knn with means - mean rmse: 1.3354\n",
      "knn with means - mean MAE : 1.0277\n"
     ]
    }
   ],
   "source": [
    "print('knn with means - mean rmse: {0:.4f}'.format(cv_knnmeans['test_rmse'].mean()))\n",
    "print('knn with means - mean MAE : {0:.4f}'.format(cv_knnmeans['test_mae'].mean()))"
   ]
  },
  {
   "cell_type": "markdown",
   "metadata": {},
   "source": [
    "## 5.2 Recommendation System using SVD()"
   ]
  },
  {
   "cell_type": "markdown",
   "metadata": {},
   "source": [
    "### 5.2.1 Building Algorithm"
   ]
  },
  {
   "cell_type": "code",
   "execution_count": 51,
   "metadata": {},
   "outputs": [
    {
     "data": {
      "text/plain": [
       "<surprise.prediction_algorithms.matrix_factorization.SVD at 0x10e0074e3c8>"
      ]
     },
     "execution_count": 51,
     "metadata": {},
     "output_type": "execute_result"
    }
   ],
   "source": [
    "algo = SVD()\n",
    "#svd_cv = cross_validate(algo,input_data,cv=5,n_jobs=-1)\n",
    "algo.fit(trainset)"
   ]
  },
  {
   "cell_type": "markdown",
   "metadata": {},
   "source": [
    "### 5.2.2 Predicting"
   ]
  },
  {
   "cell_type": "code",
   "execution_count": 52,
   "metadata": {},
   "outputs": [],
   "source": [
    "svd_predictions = algo.test(testset)\n"
   ]
  },
  {
   "cell_type": "markdown",
   "metadata": {},
   "source": [
    "### 5.2.3 Evaluation"
   ]
  },
  {
   "cell_type": "code",
   "execution_count": 53,
   "metadata": {},
   "outputs": [
    {
     "name": "stdout",
     "output_type": "stream",
     "text": [
      "RMSE: 1.2699\n",
      "MAE:  0.9944\n",
      "RMSE - SVD: 1.2699\n"
     ]
    }
   ],
   "source": [
    "rmse_calculation(svd_predictions, 'SVD')"
   ]
  },
  {
   "cell_type": "markdown",
   "metadata": {},
   "source": [
    "# <a id='6'>6. Model Evaluation<a>\n",
    "\n",
    "We wil use RMSE and MAE of the model to evaluate the same"
   ]
  },
  {
   "cell_type": "code",
   "execution_count": 54,
   "metadata": {},
   "outputs": [
    {
     "data": {
      "text/html": [
       "<div>\n",
       "<style scoped>\n",
       "    .dataframe tbody tr th:only-of-type {\n",
       "        vertical-align: middle;\n",
       "    }\n",
       "\n",
       "    .dataframe tbody tr th {\n",
       "        vertical-align: top;\n",
       "    }\n",
       "\n",
       "    .dataframe thead th {\n",
       "        text-align: right;\n",
       "    }\n",
       "</style>\n",
       "<table border=\"1\" class=\"dataframe\">\n",
       "  <thead>\n",
       "    <tr style=\"text-align: right;\">\n",
       "      <th></th>\n",
       "      <th>Model</th>\n",
       "      <th>RMSE</th>\n",
       "      <th>MAE</th>\n",
       "    </tr>\n",
       "  </thead>\n",
       "  <tbody>\n",
       "    <tr>\n",
       "      <th>0</th>\n",
       "      <td>KNNwithmeans</td>\n",
       "      <td>1.334183</td>\n",
       "      <td>1.030820</td>\n",
       "    </tr>\n",
       "    <tr>\n",
       "      <th>1</th>\n",
       "      <td>SVD</td>\n",
       "      <td>1.269892</td>\n",
       "      <td>0.994402</td>\n",
       "    </tr>\n",
       "  </tbody>\n",
       "</table>\n",
       "</div>"
      ],
      "text/plain": [
       "          Model      RMSE       MAE\n",
       "0  KNNwithmeans  1.334183  1.030820\n",
       "1           SVD  1.269892  0.994402"
      ]
     },
     "execution_count": 54,
     "metadata": {},
     "output_type": "execute_result"
    }
   ],
   "source": [
    "df_RMSE"
   ]
  },
  {
   "cell_type": "markdown",
   "metadata": {},
   "source": [
    "##### Insights\n",
    "Both RMSE and MAE are lower for SVD. Hence SVD could be the better algorithm for this problem."
   ]
  },
  {
   "cell_type": "markdown",
   "metadata": {},
   "source": [
    "## 6.1 Gridsearch CV for chosen algorithm\n",
    "Since we are clear that SVD has the lowest RMSE and MAE, we shall use gridsearchcv to tune the hyperparameters"
   ]
  },
  {
   "cell_type": "code",
   "execution_count": 55,
   "metadata": {},
   "outputs": [],
   "source": [
    "from surprise.model_selection import GridSearchCV\n",
    "hyperparameter = {'n_epochs': [20, 25], \n",
    "                  'lr_all': [0.007, 0.009, 0.01],\n",
    "                  'reg_all': [0.4, 0.6]}\n",
    "\n",
    "\n",
    "svd_gcv = GridSearchCV(SVD,hyperparameter,cv=5,n_jobs=-1)\n",
    "\n",
    "svd_gcv.fit(input_data)"
   ]
  },
  {
   "cell_type": "code",
   "execution_count": 56,
   "metadata": {},
   "outputs": [
    {
     "name": "stdout",
     "output_type": "stream",
     "text": [
      "Best paramters are\n"
     ]
    },
    {
     "data": {
      "text/plain": [
       "{'rmse': {'n_epochs': 25, 'lr_all': 0.007, 'reg_all': 0.4},\n",
       " 'mae': {'n_epochs': 25, 'lr_all': 0.01, 'reg_all': 0.4}}"
      ]
     },
     "execution_count": 56,
     "metadata": {},
     "output_type": "execute_result"
    }
   ],
   "source": [
    "print('Best paramters are')\n",
    "svd_gcv.best_params"
   ]
  },
  {
   "cell_type": "code",
   "execution_count": 57,
   "metadata": {},
   "outputs": [
    {
     "name": "stdout",
     "output_type": "stream",
     "text": [
      "Best score : {'rmse': 1.2588479749134218, 'mae': 0.9950967049731597}\n"
     ]
    }
   ],
   "source": [
    "print('Best score : {0}'.format(svd_gcv.best_score))\n"
   ]
  },
  {
   "cell_type": "code",
   "execution_count": 58,
   "metadata": {},
   "outputs": [
    {
     "name": "stdout",
     "output_type": "stream",
     "text": [
      "Mean RMSE for optimised SVD is : 1.261462544770722\n"
     ]
    }
   ],
   "source": [
    "print('Mean RMSE for optimised SVD is : {0}'.format(svd_gcv.cv_results['mean_test_rmse'].mean()))"
   ]
  },
  {
   "cell_type": "markdown",
   "metadata": {},
   "source": [
    "## 6.2 Final SVD algorithm"
   ]
  },
  {
   "cell_type": "code",
   "execution_count": 59,
   "metadata": {},
   "outputs": [
    {
     "data": {
      "text/plain": [
       "<surprise.prediction_algorithms.matrix_factorization.SVD at 0x10e007df780>"
      ]
     },
     "execution_count": 59,
     "metadata": {},
     "output_type": "execute_result"
    }
   ],
   "source": [
    "final_svd = SVD(n_epochs=25,lr_all=0.007, reg_all=0.4)\n",
    "final_svd.fit(input_data.build_full_trainset())"
   ]
  },
  {
   "cell_type": "markdown",
   "metadata": {},
   "source": [
    "# <a id='7'> 7. Predictions based on best model<a>"
   ]
  },
  {
   "cell_type": "code",
   "execution_count": 60,
   "metadata": {},
   "outputs": [
    {
     "data": {
      "text/html": [
       "<div>\n",
       "<style scoped>\n",
       "    .dataframe tbody tr th:only-of-type {\n",
       "        vertical-align: middle;\n",
       "    }\n",
       "\n",
       "    .dataframe tbody tr th {\n",
       "        vertical-align: top;\n",
       "    }\n",
       "\n",
       "    .dataframe thead th {\n",
       "        text-align: right;\n",
       "    }\n",
       "</style>\n",
       "<table border=\"1\" class=\"dataframe\">\n",
       "  <thead>\n",
       "    <tr style=\"text-align: right;\">\n",
       "      <th></th>\n",
       "      <th>userid</th>\n",
       "      <th>productid</th>\n",
       "      <th>rating</th>\n",
       "    </tr>\n",
       "  </thead>\n",
       "  <tbody>\n",
       "    <tr>\n",
       "      <th>3588866</th>\n",
       "      <td>A00000262KYZUE4J55XGL</td>\n",
       "      <td>B003UYU16G</td>\n",
       "      <td>5.0</td>\n",
       "    </tr>\n",
       "    <tr>\n",
       "      <th>4120406</th>\n",
       "      <td>A00009661LC9LQPGKJ24G</td>\n",
       "      <td>B004GWQBWY</td>\n",
       "      <td>5.0</td>\n",
       "    </tr>\n",
       "    <tr>\n",
       "      <th>2837258</th>\n",
       "      <td>A00010809P09NUU6ZP6H</td>\n",
       "      <td>B002SSM5AU</td>\n",
       "      <td>5.0</td>\n",
       "    </tr>\n",
       "    <tr>\n",
       "      <th>7596618</th>\n",
       "      <td>A000145014WOTZJ5NSKOR</td>\n",
       "      <td>B00F3L19KQ</td>\n",
       "      <td>5.0</td>\n",
       "    </tr>\n",
       "    <tr>\n",
       "      <th>2150997</th>\n",
       "      <td>A00015222LZ55IJSVL5IX</td>\n",
       "      <td>B001MSVPM6</td>\n",
       "      <td>1.0</td>\n",
       "    </tr>\n",
       "  </tbody>\n",
       "</table>\n",
       "</div>"
      ],
      "text/plain": [
       "                        userid   productid  rating\n",
       "3588866  A00000262KYZUE4J55XGL  B003UYU16G     5.0\n",
       "4120406  A00009661LC9LQPGKJ24G  B004GWQBWY     5.0\n",
       "2837258   A00010809P09NUU6ZP6H  B002SSM5AU     5.0\n",
       "7596618  A000145014WOTZJ5NSKOR  B00F3L19KQ     5.0\n",
       "2150997  A00015222LZ55IJSVL5IX  B001MSVPM6     1.0"
      ]
     },
     "execution_count": 60,
     "metadata": {},
     "output_type": "execute_result"
    }
   ],
   "source": [
    "# we will use dataframe df_items to build list of user, item pair which user has not rated or bought\n",
    "# we can also use suprise library function build_anti_testset() for this purpose\n",
    "df_items.head()"
   ]
  },
  {
   "cell_type": "code",
   "execution_count": 61,
   "metadata": {},
   "outputs": [
    {
     "data": {
      "text/plain": [
       "['B003UYU16G',\n",
       " 'B004GWQBWY',\n",
       " 'B002SSM5AU',\n",
       " 'B00F3L19KQ',\n",
       " 'B001MSVPM6',\n",
       " 'B0055Q2VNI',\n",
       " 'B007DJTBVK',\n",
       " 'B008O5BIWW',\n",
       " 'B004EIJXES',\n",
       " 'B005ERKYI2']"
      ]
     },
     "execution_count": 61,
     "metadata": {},
     "output_type": "execute_result"
    }
   ],
   "source": [
    "lst_unique_items = list(df_items['productid'].unique())\n",
    "lst_unique_users = list(df_items['userid'].unique())\n",
    "lst_unique_items[:10]"
   ]
  },
  {
   "cell_type": "markdown",
   "metadata": {},
   "source": [
    "##### # Recommender function"
   ]
  },
  {
   "cell_type": "code",
   "execution_count": 62,
   "metadata": {},
   "outputs": [],
   "source": [
    "def predict_top_items(user, n=5):\n",
    "    lst_prediction = []\n",
    "    #creating a list of alreay rated items by the selected user    \n",
    "    lst_existing_items = list(df_items[df_items['userid'] == user]['productid'])\n",
    "    \n",
    "    # looping through all items\n",
    "    for item in lst_unique_items:\n",
    "        #Checking if item is already rated by the user in query?\n",
    "        if item not in lst_existing_items:\n",
    "            #add 'Predicted ratings' to a list if item is not rated by the user in query\n",
    "            lst_prediction.append([user, item, final_svd.predict(user, item)[3]])\n",
    "    \n",
    "    #adding the list of recommendations to the dataframe\n",
    "    df = pd.DataFrame(lst_prediction,columns=['user','item','pred_rating'])\n",
    "    \n",
    "    # Sort dataframe in descending order predicted rating and Select top n items\n",
    "    df = df.sort_values(by='pred_rating',ascending=False)[:n]\n",
    "    lst_final_prediction = list(df['item'])\n",
    "    \n",
    "    return lst_final_prediction\n",
    "    \n",
    "        \n",
    "    "
   ]
  },
  {
   "cell_type": "markdown",
   "metadata": {},
   "source": [
    "##### # Sample recommendations for 1 user"
   ]
  },
  {
   "cell_type": "code",
   "execution_count": 63,
   "metadata": {},
   "outputs": [
    {
     "name": "stdout",
     "output_type": "stream",
     "text": [
      "Top 5 recommendations for user A5JLAU2ARJ0BO are: \n",
      "['B000053HC5', 'B008I6RVZU', 'B0055N2L22', 'B000TMFYBO', 'B0000DYV9H']\n"
     ]
    }
   ],
   "source": [
    "print('Top {0} recommendations for user {1} are: '.format(5,'A5JLAU2ARJ0BO'))\n",
    "print(predict_top_items('A5JLAU2ARJ0BO',5))"
   ]
  },
  {
   "cell_type": "markdown",
   "metadata": {},
   "source": [
    "##### # Sample recommendations for 100 users"
   ]
  },
  {
   "cell_type": "code",
   "execution_count": 66,
   "metadata": {},
   "outputs": [
    {
     "name": "stdout",
     "output_type": "stream",
     "text": [
      "Execution time: 104.9583 seconds\n"
     ]
    },
    {
     "data": {
      "text/html": [
       "<div>\n",
       "<style scoped>\n",
       "    .dataframe tbody tr th:only-of-type {\n",
       "        vertical-align: middle;\n",
       "    }\n",
       "\n",
       "    .dataframe tbody tr th {\n",
       "        vertical-align: top;\n",
       "    }\n",
       "\n",
       "    .dataframe thead th {\n",
       "        text-align: right;\n",
       "    }\n",
       "</style>\n",
       "<table border=\"1\" class=\"dataframe\">\n",
       "  <thead>\n",
       "    <tr style=\"text-align: right;\">\n",
       "      <th></th>\n",
       "      <th>User</th>\n",
       "      <th>Recommendations-Popularity</th>\n",
       "      <th>Recommendations-Collaborative Filtering</th>\n",
       "    </tr>\n",
       "  </thead>\n",
       "  <tbody>\n",
       "    <tr>\n",
       "      <th>0</th>\n",
       "      <td>A5JLAU2ARJ0BO</td>\n",
       "      <td>[B0074BW614, B00DR0PDNE, B007WTAJTO, B0019EHU8...</td>\n",
       "      <td>[B000053HC5, B008I6RVZU, B0055N2L22, B000TMFYB...</td>\n",
       "    </tr>\n",
       "    <tr>\n",
       "      <th>1</th>\n",
       "      <td>ADLVFFE4VBT8</td>\n",
       "      <td>[B00DR0PDNE, B007WTAJTO, B003ELYQGG, B007R5YDY...</td>\n",
       "      <td>[B000053HC5, B008I6RVZU, B000TMFYBO, B0055N2L2...</td>\n",
       "    </tr>\n",
       "    <tr>\n",
       "      <th>2</th>\n",
       "      <td>A3OXHLG6DIBRW8</td>\n",
       "      <td>[B007WTAJTO, B006GWO5WK, B003ELYQGG, B007R5YDY...</td>\n",
       "      <td>[B0043ZLFXE, B000053HC5, B0055N2L22, B008I6RVZ...</td>\n",
       "    </tr>\n",
       "    <tr>\n",
       "      <th>3</th>\n",
       "      <td>A6FIAB28IS79</td>\n",
       "      <td>[B007WTAJTO, B0019EHU8G, B006GWO5WK, B003ES5ZU...</td>\n",
       "      <td>[B000053HC5, B008I6RVZU, B000TMFYBO, B0055N2L2...</td>\n",
       "    </tr>\n",
       "    <tr>\n",
       "      <th>4</th>\n",
       "      <td>A680RUE1FDO8B</td>\n",
       "      <td>[B0074BW614, B00DR0PDNE, B006GWO5WK, B003ELYQG...</td>\n",
       "      <td>[B003J9QQWU, B000053HC5, B008I6RVZU, B004C4VLZ...</td>\n",
       "    </tr>\n",
       "  </tbody>\n",
       "</table>\n",
       "</div>"
      ],
      "text/plain": [
       "             User                         Recommendations-Popularity  \\\n",
       "0   A5JLAU2ARJ0BO  [B0074BW614, B00DR0PDNE, B007WTAJTO, B0019EHU8...   \n",
       "1    ADLVFFE4VBT8  [B00DR0PDNE, B007WTAJTO, B003ELYQGG, B007R5YDY...   \n",
       "2  A3OXHLG6DIBRW8  [B007WTAJTO, B006GWO5WK, B003ELYQGG, B007R5YDY...   \n",
       "3    A6FIAB28IS79  [B007WTAJTO, B0019EHU8G, B006GWO5WK, B003ES5ZU...   \n",
       "4   A680RUE1FDO8B  [B0074BW614, B00DR0PDNE, B006GWO5WK, B003ELYQG...   \n",
       "\n",
       "             Recommendations-Collaborative Filtering  \n",
       "0  [B000053HC5, B008I6RVZU, B0055N2L22, B000TMFYB...  \n",
       "1  [B000053HC5, B008I6RVZU, B000TMFYBO, B0055N2L2...  \n",
       "2  [B0043ZLFXE, B000053HC5, B0055N2L22, B008I6RVZ...  \n",
       "3  [B000053HC5, B008I6RVZU, B000TMFYBO, B0055N2L2...  \n",
       "4  [B003J9QQWU, B000053HC5, B008I6RVZU, B004C4VLZ...  "
      ]
     },
     "execution_count": 66,
     "metadata": {},
     "output_type": "execute_result"
    }
   ],
   "source": [
    "# since ther are around 4.2 million unique users we will predict top 5 items for only 100 items\n",
    "# for the sake of comparison I will use the same items which were used in Popularity based recommendation in section 3\n",
    "start_time = time.time()\n",
    "\n",
    "lst_reco =[]\n",
    "for user in list(df_recommendations['User']):\n",
    "    lst_reco.append(predict_top_items(user))\n",
    "df_recommendations['Recommendations-Collaborative Filtering'] = lst_reco\n",
    "\n",
    "\n",
    "end_time = time.time()\n",
    "print('Execution time: {0:.4f} seconds'.format(end_time - start_time))\n",
    "df_recommendations.head()"
   ]
  },
  {
   "cell_type": "markdown",
   "metadata": {},
   "source": [
    "# <a id='8'> 8. Conclusions <a>"
   ]
  },
  {
   "cell_type": "markdown",
   "metadata": {},
   "source": [
    "##### 1. Product recommendations popularity based and collaborative filtering based recommendation systems for 100 products.\n",
    "These are based on item item similarity"
   ]
  },
  {
   "cell_type": "code",
   "execution_count": 65,
   "metadata": {},
   "outputs": [
    {
     "data": {
      "text/html": [
       "<div>\n",
       "<style scoped>\n",
       "    .dataframe tbody tr th:only-of-type {\n",
       "        vertical-align: middle;\n",
       "    }\n",
       "\n",
       "    .dataframe tbody tr th {\n",
       "        vertical-align: top;\n",
       "    }\n",
       "\n",
       "    .dataframe thead th {\n",
       "        text-align: right;\n",
       "    }\n",
       "</style>\n",
       "<table border=\"1\" class=\"dataframe\">\n",
       "  <thead>\n",
       "    <tr style=\"text-align: right;\">\n",
       "      <th></th>\n",
       "      <th>User</th>\n",
       "      <th>Recommendations-Popularity</th>\n",
       "      <th>Recommendations-Collaborative Filtering</th>\n",
       "    </tr>\n",
       "  </thead>\n",
       "  <tbody>\n",
       "    <tr>\n",
       "      <th>0</th>\n",
       "      <td>A5JLAU2ARJ0BO</td>\n",
       "      <td>[B0074BW614, B00DR0PDNE, B007WTAJTO, B0019EHU8...</td>\n",
       "      <td>[B000053HC5, B008I6RVZU, B0055N2L22, B000TMFYB...</td>\n",
       "    </tr>\n",
       "    <tr>\n",
       "      <th>1</th>\n",
       "      <td>ADLVFFE4VBT8</td>\n",
       "      <td>[B00DR0PDNE, B007WTAJTO, B003ELYQGG, B007R5YDY...</td>\n",
       "      <td>[B000053HC5, B008I6RVZU, B000TMFYBO, B0055N2L2...</td>\n",
       "    </tr>\n",
       "    <tr>\n",
       "      <th>2</th>\n",
       "      <td>A3OXHLG6DIBRW8</td>\n",
       "      <td>[B007WTAJTO, B006GWO5WK, B003ELYQGG, B007R5YDY...</td>\n",
       "      <td>[B0043ZLFXE, B000053HC5, B0055N2L22, B008I6RVZ...</td>\n",
       "    </tr>\n",
       "    <tr>\n",
       "      <th>3</th>\n",
       "      <td>A6FIAB28IS79</td>\n",
       "      <td>[B007WTAJTO, B0019EHU8G, B006GWO5WK, B003ES5ZU...</td>\n",
       "      <td>[B000053HC5, B008I6RVZU, B000TMFYBO, B0055N2L2...</td>\n",
       "    </tr>\n",
       "    <tr>\n",
       "      <th>4</th>\n",
       "      <td>A680RUE1FDO8B</td>\n",
       "      <td>[B0074BW614, B00DR0PDNE, B006GWO5WK, B003ELYQG...</td>\n",
       "      <td>[B003J9QQWU, B000053HC5, B008I6RVZU, B004C4VLZ...</td>\n",
       "    </tr>\n",
       "    <tr>\n",
       "      <th>...</th>\n",
       "      <td>...</td>\n",
       "      <td>...</td>\n",
       "      <td>...</td>\n",
       "    </tr>\n",
       "    <tr>\n",
       "      <th>95</th>\n",
       "      <td>A3W4D8XOGLWUN5</td>\n",
       "      <td>[B0074BW614, B00DR0PDNE, B0019EHU8G, B006GWO5W...</td>\n",
       "      <td>[B000053HC5, B008I6RVZU, B000TMFYBO, B0055N2L2...</td>\n",
       "    </tr>\n",
       "    <tr>\n",
       "      <th>96</th>\n",
       "      <td>A17HMM1M7T9PJ1</td>\n",
       "      <td>[B0074BW614, B00DR0PDNE, B007WTAJTO, B0019EHU8...</td>\n",
       "      <td>[B000053HC5, B008I6RVZU, B000TMFYBO, B0055N2L2...</td>\n",
       "    </tr>\n",
       "    <tr>\n",
       "      <th>97</th>\n",
       "      <td>A32O5FZH994CNY</td>\n",
       "      <td>[B0074BW614, B00DR0PDNE, B007WTAJTO, B0019EHU8...</td>\n",
       "      <td>[B000053HC5, B008I6RVZU, B000TMFYBO, B0055N2L2...</td>\n",
       "    </tr>\n",
       "    <tr>\n",
       "      <th>98</th>\n",
       "      <td>A225G2TFM76GYX</td>\n",
       "      <td>[B0074BW614, B00DR0PDNE, B007WTAJTO, B0019EHU8...</td>\n",
       "      <td>[B000053HC5, B008I6RVZU, B000TMFYBO, B0055N2L2...</td>\n",
       "    </tr>\n",
       "    <tr>\n",
       "      <th>99</th>\n",
       "      <td>A18S2VGUH9SCV5</td>\n",
       "      <td>[B0074BW614, B00DR0PDNE, B007WTAJTO, B0019EHU8...</td>\n",
       "      <td>[B000053HC5, B008I6RVZU, B000TMFYBO, B0055N2L2...</td>\n",
       "    </tr>\n",
       "  </tbody>\n",
       "</table>\n",
       "<p>100 rows × 3 columns</p>\n",
       "</div>"
      ],
      "text/plain": [
       "              User                         Recommendations-Popularity  \\\n",
       "0    A5JLAU2ARJ0BO  [B0074BW614, B00DR0PDNE, B007WTAJTO, B0019EHU8...   \n",
       "1     ADLVFFE4VBT8  [B00DR0PDNE, B007WTAJTO, B003ELYQGG, B007R5YDY...   \n",
       "2   A3OXHLG6DIBRW8  [B007WTAJTO, B006GWO5WK, B003ELYQGG, B007R5YDY...   \n",
       "3     A6FIAB28IS79  [B007WTAJTO, B0019EHU8G, B006GWO5WK, B003ES5ZU...   \n",
       "4    A680RUE1FDO8B  [B0074BW614, B00DR0PDNE, B006GWO5WK, B003ELYQG...   \n",
       "..             ...                                                ...   \n",
       "95  A3W4D8XOGLWUN5  [B0074BW614, B00DR0PDNE, B0019EHU8G, B006GWO5W...   \n",
       "96  A17HMM1M7T9PJ1  [B0074BW614, B00DR0PDNE, B007WTAJTO, B0019EHU8...   \n",
       "97  A32O5FZH994CNY  [B0074BW614, B00DR0PDNE, B007WTAJTO, B0019EHU8...   \n",
       "98  A225G2TFM76GYX  [B0074BW614, B00DR0PDNE, B007WTAJTO, B0019EHU8...   \n",
       "99  A18S2VGUH9SCV5  [B0074BW614, B00DR0PDNE, B007WTAJTO, B0019EHU8...   \n",
       "\n",
       "              Recommendations-Collaborative Filtering  \n",
       "0   [B000053HC5, B008I6RVZU, B0055N2L22, B000TMFYB...  \n",
       "1   [B000053HC5, B008I6RVZU, B000TMFYBO, B0055N2L2...  \n",
       "2   [B0043ZLFXE, B000053HC5, B0055N2L22, B008I6RVZ...  \n",
       "3   [B000053HC5, B008I6RVZU, B000TMFYBO, B0055N2L2...  \n",
       "4   [B003J9QQWU, B000053HC5, B008I6RVZU, B004C4VLZ...  \n",
       "..                                                ...  \n",
       "95  [B000053HC5, B008I6RVZU, B000TMFYBO, B0055N2L2...  \n",
       "96  [B000053HC5, B008I6RVZU, B000TMFYBO, B0055N2L2...  \n",
       "97  [B000053HC5, B008I6RVZU, B000TMFYBO, B0055N2L2...  \n",
       "98  [B000053HC5, B008I6RVZU, B000TMFYBO, B0055N2L2...  \n",
       "99  [B000053HC5, B008I6RVZU, B000TMFYBO, B0055N2L2...  \n",
       "\n",
       "[100 rows x 3 columns]"
      ]
     },
     "execution_count": 65,
     "metadata": {},
     "output_type": "execute_result"
    }
   ],
   "source": [
    "df_recommendations"
   ]
  },
  {
   "cell_type": "markdown",
   "metadata": {},
   "source": [
    "##### 2. Top 10 Popular items based on rating count"
   ]
  },
  {
   "cell_type": "code",
   "execution_count": 67,
   "metadata": {},
   "outputs": [
    {
     "data": {
      "text/html": [
       "<div>\n",
       "<style scoped>\n",
       "    .dataframe tbody tr th:only-of-type {\n",
       "        vertical-align: middle;\n",
       "    }\n",
       "\n",
       "    .dataframe tbody tr th {\n",
       "        vertical-align: top;\n",
       "    }\n",
       "\n",
       "    .dataframe thead th {\n",
       "        text-align: right;\n",
       "    }\n",
       "</style>\n",
       "<table border=\"1\" class=\"dataframe\">\n",
       "  <thead>\n",
       "    <tr style=\"text-align: right;\">\n",
       "      <th></th>\n",
       "      <th>productid</th>\n",
       "      <th>rating_count</th>\n",
       "      <th>mean_rating</th>\n",
       "    </tr>\n",
       "  </thead>\n",
       "  <tbody>\n",
       "    <tr>\n",
       "      <th>0</th>\n",
       "      <td>B0074BW614</td>\n",
       "      <td>18244</td>\n",
       "      <td>4.491504</td>\n",
       "    </tr>\n",
       "    <tr>\n",
       "      <th>1</th>\n",
       "      <td>B00DR0PDNE</td>\n",
       "      <td>16454</td>\n",
       "      <td>3.931020</td>\n",
       "    </tr>\n",
       "    <tr>\n",
       "      <th>2</th>\n",
       "      <td>B007WTAJTO</td>\n",
       "      <td>14172</td>\n",
       "      <td>4.424005</td>\n",
       "    </tr>\n",
       "    <tr>\n",
       "      <th>3</th>\n",
       "      <td>B0019EHU8G</td>\n",
       "      <td>12285</td>\n",
       "      <td>4.754497</td>\n",
       "    </tr>\n",
       "    <tr>\n",
       "      <th>4</th>\n",
       "      <td>B006GWO5WK</td>\n",
       "      <td>12226</td>\n",
       "      <td>4.314657</td>\n",
       "    </tr>\n",
       "    <tr>\n",
       "      <th>5</th>\n",
       "      <td>B003ELYQGG</td>\n",
       "      <td>11617</td>\n",
       "      <td>4.392528</td>\n",
       "    </tr>\n",
       "    <tr>\n",
       "      <th>6</th>\n",
       "      <td>B003ES5ZUU</td>\n",
       "      <td>10276</td>\n",
       "      <td>4.704749</td>\n",
       "    </tr>\n",
       "    <tr>\n",
       "      <th>7</th>\n",
       "      <td>B007R5YDYA</td>\n",
       "      <td>9907</td>\n",
       "      <td>4.690926</td>\n",
       "    </tr>\n",
       "    <tr>\n",
       "      <th>8</th>\n",
       "      <td>B00622AG6S</td>\n",
       "      <td>9823</td>\n",
       "      <td>4.420136</td>\n",
       "    </tr>\n",
       "    <tr>\n",
       "      <th>9</th>\n",
       "      <td>B0002L5R78</td>\n",
       "      <td>9487</td>\n",
       "      <td>4.448614</td>\n",
       "    </tr>\n",
       "  </tbody>\n",
       "</table>\n",
       "</div>"
      ],
      "text/plain": [
       "    productid  rating_count  mean_rating\n",
       "0  B0074BW614         18244     4.491504\n",
       "1  B00DR0PDNE         16454     3.931020\n",
       "2  B007WTAJTO         14172     4.424005\n",
       "3  B0019EHU8G         12285     4.754497\n",
       "4  B006GWO5WK         12226     4.314657\n",
       "5  B003ELYQGG         11617     4.392528\n",
       "6  B003ES5ZUU         10276     4.704749\n",
       "7  B007R5YDYA          9907     4.690926\n",
       "8  B00622AG6S          9823     4.420136\n",
       "9  B0002L5R78          9487     4.448614"
      ]
     },
     "execution_count": 67,
     "metadata": {},
     "output_type": "execute_result"
    }
   ],
   "source": [
    "popular_items_rating_count[:10]"
   ]
  },
  {
   "cell_type": "markdown",
   "metadata": {},
   "source": [
    "##### 3. We could manage to increase the density of the dataset by selecting products having more than 50 ratings\n",
    "##### 4. The best model comes out to be SVD based upon lower values of RMSE and MAE\n",
    "##### 5. Best parameters comes out to be : n_epochs=25,lr_all=0.007, reg_all=0.4\n",
    "##### 6. For collaborative filtering based system, model was built based on Item-Item similarity for trecommendations\n",
    "##### 7. For popularity based system, items with maximum rating count were selected as the top recommendations\n",
    "------------------------------------------------------------------------------------------------------\n"
   ]
  }
 ],
 "metadata": {
  "kernelspec": {
   "display_name": "Python 3",
   "language": "python",
   "name": "python3"
  },
  "language_info": {
   "codemirror_mode": {
    "name": "ipython",
    "version": 3
   },
   "file_extension": ".py",
   "mimetype": "text/x-python",
   "name": "python",
   "nbconvert_exporter": "python",
   "pygments_lexer": "ipython3",
   "version": "3.6.5"
  }
 },
 "nbformat": 4,
 "nbformat_minor": 4
}
