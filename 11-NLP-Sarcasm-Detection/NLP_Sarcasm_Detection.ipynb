{
  "nbformat": 4,
  "nbformat_minor": 0,
  "metadata": {
    "accelerator": "GPU",
    "colab": {
      "name": "Questions - Project 2 - Sequential Models in NLP - Sarcasm Detection.ipynb",
      "provenance": [],
      "collapsed_sections": []
    },
    "kernelspec": {
      "display_name": "Python 3",
      "language": "python",
      "name": "python3"
    },
    "language_info": {
      "codemirror_mode": {
        "name": "ipython",
        "version": 3
      },
      "file_extension": ".py",
      "mimetype": "text/x-python",
      "name": "python",
      "nbconvert_exporter": "python",
      "pygments_lexer": "ipython3",
      "version": "3.7.3"
    }
  },
  "cells": [
    {
      "cell_type": "markdown",
      "metadata": {
        "id": "bI7SIeJ_oZMU"
      },
      "source": [
        "<img src=\"http://drive.google.com/uc?export=view&id=1tpOCamr9aWz817atPnyXus8w5gJ3mIts\" width=500px>\n",
        "\n",
        "Proprietary content. © Great Learning. All Rights Reserved. Unauthorized use or distribution prohibited."
      ]
    },
    {
      "cell_type": "markdown",
      "metadata": {
        "id": "pp68FAQf9aMN"
      },
      "source": [
        "# Sarcasm Detection\n",
        "\n",
        "- By Sandesh Balyan"
      ]
    },
    {
      "cell_type": "markdown",
      "metadata": {
        "id": "bEahVPtWX5ve"
      },
      "source": [
        "### Dataset\n",
        "\n",
        "#### Acknowledgement\n",
        "Misra, Rishabh, and Prahal Arora. \"Sarcasm Detection using Hybrid Neural Network.\" arXiv preprint arXiv:1908.07414 (2019)."
      ]
    },
    {
      "cell_type": "code",
      "metadata": {
        "colab": {
          "base_uri": "https://localhost:8080/",
          "height": 35
        },
        "id": "OnzAGQWsW8Km",
        "outputId": "1849b774-0f0e-4a01-f1ea-16a3ce01cfeb"
      },
      "source": [
        "%tensorflow_version 2.x\n",
        "import tensorflow\n",
        "tensorflow.__version__"
      ],
      "execution_count": null,
      "outputs": [
        {
          "output_type": "execute_result",
          "data": {
            "application/vnd.google.colaboratory.intrinsic+json": {
              "type": "string"
            },
            "text/plain": [
              "'2.3.0'"
            ]
          },
          "metadata": {
            "tags": []
          },
          "execution_count": 1
        }
      ]
    },
    {
      "cell_type": "code",
      "metadata": {
        "id": "OMamSDFPW8PF",
        "colab": {
          "base_uri": "https://localhost:8080/"
        },
        "outputId": "a31d2e94-293b-44dd-aeb2-10b6c0bb4685"
      },
      "source": [
        "import pandas as pd\n",
        "import numpy as np\n",
        "import seaborn as sns\n",
        "import matplotlib.pyplot as plt\n",
        "\n",
        "from sklearn.model_selection import train_test_split\n",
        "from sklearn.metrics import classification_report,accuracy_score, confusion_matrix\n",
        "\n",
        "from tensorflow import keras\n",
        "from keras.models import Model, Sequential\n",
        "from keras.preprocessing.text import Tokenizer\n",
        "from keras.preprocessing.sequence import pad_sequences\n",
        "from keras.layers import Dense, Dropout, Embedding, Flatten, Bidirectional, LSTM, GlobalMaxPool1D\n",
        "from keras.callbacks import EarlyStopping, ReduceLROnPlateau, ModelCheckpoint\n",
        "from keras.initializers import Constant\n",
        "\n",
        "import nltk\n",
        "nltk.download('wordnet')\n",
        "\n",
        "from zipfile import ZipFile\n",
        "\n",
        "random_state = 42\n"
      ],
      "execution_count": null,
      "outputs": [
        {
          "output_type": "stream",
          "text": [
            "[nltk_data] Downloading package wordnet to /root/nltk_data...\n",
            "[nltk_data]   Package wordnet is already up-to-date!\n"
          ],
          "name": "stdout"
        }
      ]
    },
    {
      "cell_type": "code",
      "metadata": {
        "colab": {
          "base_uri": "https://localhost:8080/"
        },
        "id": "nqLVfBAaYZJb",
        "outputId": "47e28da1-6899-4ab0-b393-960204cc41cc"
      },
      "source": [
        "# mounting google drive\n",
        "from google.colab import drive\n",
        "drive.mount('/content/drive')"
      ],
      "execution_count": null,
      "outputs": [
        {
          "output_type": "stream",
          "text": [
            "Mounted at /content/drive\n"
          ],
          "name": "stdout"
        }
      ]
    },
    {
      "cell_type": "code",
      "metadata": {
        "colab": {
          "base_uri": "https://localhost:8080/"
        },
        "id": "cEHhywp0Yzs4",
        "outputId": "8b8b8648-4f23-4f75-8c3b-05f448e0ef0c"
      },
      "source": [
        "# changing working directory\n",
        "import os\n",
        "os.chdir('/content/drive/MyDrive/Colab Notebooks/05-NLP-SarcasmDetection')\n",
        "\n",
        "#verifying current working directory\n",
        "!pwd"
      ],
      "execution_count": null,
      "outputs": [
        {
          "output_type": "stream",
          "text": [
            "/content/drive/MyDrive/Colab Notebooks/05-NLP-SarcasmDetection\n"
          ],
          "name": "stdout"
        }
      ]
    },
    {
      "cell_type": "markdown",
      "metadata": {
        "id": "vAk6BRUh8CqL"
      },
      "source": [
        "### 1. Load Data"
      ]
    },
    {
      "cell_type": "code",
      "metadata": {
        "id": "v8-PQsV0DrAZ",
        "colab": {
          "base_uri": "https://localhost:8080/",
          "height": 204
        },
        "outputId": "bd9f68df-8b4c-4908-c4fc-53f41614f715"
      },
      "source": [
        "data = pd.read_json('Sarcasm_Headlines_Dataset.json', lines=True)\n",
        "data.head()"
      ],
      "execution_count": null,
      "outputs": [
        {
          "output_type": "execute_result",
          "data": {
            "text/html": [
              "<div>\n",
              "<style scoped>\n",
              "    .dataframe tbody tr th:only-of-type {\n",
              "        vertical-align: middle;\n",
              "    }\n",
              "\n",
              "    .dataframe tbody tr th {\n",
              "        vertical-align: top;\n",
              "    }\n",
              "\n",
              "    .dataframe thead th {\n",
              "        text-align: right;\n",
              "    }\n",
              "</style>\n",
              "<table border=\"1\" class=\"dataframe\">\n",
              "  <thead>\n",
              "    <tr style=\"text-align: right;\">\n",
              "      <th></th>\n",
              "      <th>article_link</th>\n",
              "      <th>headline</th>\n",
              "      <th>is_sarcastic</th>\n",
              "    </tr>\n",
              "  </thead>\n",
              "  <tbody>\n",
              "    <tr>\n",
              "      <th>0</th>\n",
              "      <td>https://www.huffingtonpost.com/entry/versace-b...</td>\n",
              "      <td>former versace store clerk sues over secret 'b...</td>\n",
              "      <td>0</td>\n",
              "    </tr>\n",
              "    <tr>\n",
              "      <th>1</th>\n",
              "      <td>https://www.huffingtonpost.com/entry/roseanne-...</td>\n",
              "      <td>the 'roseanne' revival catches up to our thorn...</td>\n",
              "      <td>0</td>\n",
              "    </tr>\n",
              "    <tr>\n",
              "      <th>2</th>\n",
              "      <td>https://local.theonion.com/mom-starting-to-fea...</td>\n",
              "      <td>mom starting to fear son's web series closest ...</td>\n",
              "      <td>1</td>\n",
              "    </tr>\n",
              "    <tr>\n",
              "      <th>3</th>\n",
              "      <td>https://politics.theonion.com/boehner-just-wan...</td>\n",
              "      <td>boehner just wants wife to listen, not come up...</td>\n",
              "      <td>1</td>\n",
              "    </tr>\n",
              "    <tr>\n",
              "      <th>4</th>\n",
              "      <td>https://www.huffingtonpost.com/entry/jk-rowlin...</td>\n",
              "      <td>j.k. rowling wishes snape happy birthday in th...</td>\n",
              "      <td>0</td>\n",
              "    </tr>\n",
              "  </tbody>\n",
              "</table>\n",
              "</div>"
            ],
            "text/plain": [
              "                                        article_link  ... is_sarcastic\n",
              "0  https://www.huffingtonpost.com/entry/versace-b...  ...            0\n",
              "1  https://www.huffingtonpost.com/entry/roseanne-...  ...            0\n",
              "2  https://local.theonion.com/mom-starting-to-fea...  ...            1\n",
              "3  https://politics.theonion.com/boehner-just-wan...  ...            1\n",
              "4  https://www.huffingtonpost.com/entry/jk-rowlin...  ...            0\n",
              "\n",
              "[5 rows x 3 columns]"
            ]
          },
          "metadata": {
            "tags": []
          },
          "execution_count": 5
        }
      ]
    },
    {
      "cell_type": "markdown",
      "metadata": {
        "id": "g7AGSSP6ZyUk"
      },
      "source": [
        "##### 1.1 Dataset Shape"
      ]
    },
    {
      "cell_type": "code",
      "metadata": {
        "colab": {
          "base_uri": "https://localhost:8080/"
        },
        "id": "v-DX60u0Zyld",
        "outputId": "618e9fe9-ef61-4934-c069-ca33a68a305c"
      },
      "source": [
        "data.shape"
      ],
      "execution_count": null,
      "outputs": [
        {
          "output_type": "execute_result",
          "data": {
            "text/plain": [
              "(26709, 3)"
            ]
          },
          "metadata": {
            "tags": []
          },
          "execution_count": 6
        }
      ]
    },
    {
      "cell_type": "markdown",
      "metadata": {
        "id": "owR1QS-IaPAs"
      },
      "source": [
        "There are total 26709 headlines and 3 columns in the dataset\n",
        "\n",
        "Column headline contains the actual sentences and is_sarcastic contains weather the headline is sarcastic(1) or not(0)"
      ]
    },
    {
      "cell_type": "markdown",
      "metadata": {
        "id": "8sK22Kusa4qc"
      },
      "source": [
        "##### 1.2 Exploring dataset"
      ]
    },
    {
      "cell_type": "code",
      "metadata": {
        "colab": {
          "base_uri": "https://localhost:8080/"
        },
        "id": "jEDrc49ba350",
        "outputId": "db0fd6d5-5cdf-41d9-946c-e709ad629269"
      },
      "source": [
        "# checking duplicates\n",
        "print('Count of duplicate records in the dataset are {0}'.format(data.duplicated().sum()))"
      ],
      "execution_count": null,
      "outputs": [
        {
          "output_type": "stream",
          "text": [
            "Count of duplicate records in the dataset are 1\n"
          ],
          "name": "stdout"
        }
      ]
    },
    {
      "cell_type": "code",
      "metadata": {
        "colab": {
          "base_uri": "https://localhost:8080/"
        },
        "id": "krri-euQbg0s",
        "outputId": "c04480ed-5f90-4fc2-eda5-676df2c7f218"
      },
      "source": [
        "# dropping dulicates and verifying the shape again\n",
        "data = data.drop_duplicates()\n",
        "print('New Shape of the dataset {}'.format(data.shape))"
      ],
      "execution_count": null,
      "outputs": [
        {
          "output_type": "stream",
          "text": [
            "New Shape of the dataset (26708, 3)\n"
          ],
          "name": "stdout"
        }
      ]
    },
    {
      "cell_type": "code",
      "metadata": {
        "colab": {
          "base_uri": "https://localhost:8080/"
        },
        "id": "nLmkL2AJcB8h",
        "outputId": "bb65626f-7c96-499f-c9ef-2117f8859c7c"
      },
      "source": [
        "# checking missing values if any in any of the columns\n",
        "data.isna().sum()"
      ],
      "execution_count": null,
      "outputs": [
        {
          "output_type": "execute_result",
          "data": {
            "text/plain": [
              "article_link    0\n",
              "headline        0\n",
              "is_sarcastic    0\n",
              "dtype: int64"
            ]
          },
          "metadata": {
            "tags": []
          },
          "execution_count": 9
        }
      ]
    },
    {
      "cell_type": "markdown",
      "metadata": {
        "id": "X9xvZqsCcM4b"
      },
      "source": [
        "There are no null values in any of the columns"
      ]
    },
    {
      "cell_type": "code",
      "metadata": {
        "colab": {
          "base_uri": "https://localhost:8080/",
          "height": 142
        },
        "id": "5FpcX1iEcCBg",
        "outputId": "847ec744-a3de-47a9-ee54-2259c0ccdc48"
      },
      "source": [
        "# Checking the percentage of is_sarcastic true and false\n",
        "data.groupby(by=['is_sarcastic']).count()"
      ],
      "execution_count": null,
      "outputs": [
        {
          "output_type": "execute_result",
          "data": {
            "text/html": [
              "<div>\n",
              "<style scoped>\n",
              "    .dataframe tbody tr th:only-of-type {\n",
              "        vertical-align: middle;\n",
              "    }\n",
              "\n",
              "    .dataframe tbody tr th {\n",
              "        vertical-align: top;\n",
              "    }\n",
              "\n",
              "    .dataframe thead th {\n",
              "        text-align: right;\n",
              "    }\n",
              "</style>\n",
              "<table border=\"1\" class=\"dataframe\">\n",
              "  <thead>\n",
              "    <tr style=\"text-align: right;\">\n",
              "      <th></th>\n",
              "      <th>article_link</th>\n",
              "      <th>headline</th>\n",
              "    </tr>\n",
              "    <tr>\n",
              "      <th>is_sarcastic</th>\n",
              "      <th></th>\n",
              "      <th></th>\n",
              "    </tr>\n",
              "  </thead>\n",
              "  <tbody>\n",
              "    <tr>\n",
              "      <th>0</th>\n",
              "      <td>14984</td>\n",
              "      <td>14984</td>\n",
              "    </tr>\n",
              "    <tr>\n",
              "      <th>1</th>\n",
              "      <td>11724</td>\n",
              "      <td>11724</td>\n",
              "    </tr>\n",
              "  </tbody>\n",
              "</table>\n",
              "</div>"
            ],
            "text/plain": [
              "              article_link  headline\n",
              "is_sarcastic                        \n",
              "0                    14984     14984\n",
              "1                    11724     11724"
            ]
          },
          "metadata": {
            "tags": []
          },
          "execution_count": 10
        }
      ]
    },
    {
      "cell_type": "code",
      "metadata": {
        "colab": {
          "base_uri": "https://localhost:8080/"
        },
        "id": "-S6y_9xtcB58",
        "outputId": "46ef4150-36eb-4f17-f9cb-54d2d8121746"
      },
      "source": [
        "print('% of headlines which are NOT sarcastic  :{0:.2f}%'.format(data.groupby(by=['is_sarcastic']).count()['headline'][0]/data.shape[0]*100))\n",
        "print('% of headlines which are sarcastic      :{0:.2f}%'.format(data.groupby(by=['is_sarcastic']).count()['headline'][1]/data.shape[0]*100))"
      ],
      "execution_count": null,
      "outputs": [
        {
          "output_type": "stream",
          "text": [
            "% of headlines which are NOT sarcastic  :56.10%\n",
            "% of headlines which are sarcastic      :43.90%\n"
          ],
          "name": "stdout"
        }
      ]
    },
    {
      "cell_type": "markdown",
      "metadata": {
        "id": "z6pXf7A78E2H"
      },
      "source": [
        "### Drop `article_link` from dataset"
      ]
    },
    {
      "cell_type": "code",
      "metadata": {
        "id": "-WUNHq5zEV0n",
        "colab": {
          "base_uri": "https://localhost:8080/",
          "height": 204
        },
        "outputId": "1b13cc3a-cd3c-479f-9e43-4facfbb16600"
      },
      "source": [
        "data = data.drop(['article_link'],axis=1)\n",
        "data.head()"
      ],
      "execution_count": null,
      "outputs": [
        {
          "output_type": "execute_result",
          "data": {
            "text/html": [
              "<div>\n",
              "<style scoped>\n",
              "    .dataframe tbody tr th:only-of-type {\n",
              "        vertical-align: middle;\n",
              "    }\n",
              "\n",
              "    .dataframe tbody tr th {\n",
              "        vertical-align: top;\n",
              "    }\n",
              "\n",
              "    .dataframe thead th {\n",
              "        text-align: right;\n",
              "    }\n",
              "</style>\n",
              "<table border=\"1\" class=\"dataframe\">\n",
              "  <thead>\n",
              "    <tr style=\"text-align: right;\">\n",
              "      <th></th>\n",
              "      <th>headline</th>\n",
              "      <th>is_sarcastic</th>\n",
              "    </tr>\n",
              "  </thead>\n",
              "  <tbody>\n",
              "    <tr>\n",
              "      <th>0</th>\n",
              "      <td>former versace store clerk sues over secret 'b...</td>\n",
              "      <td>0</td>\n",
              "    </tr>\n",
              "    <tr>\n",
              "      <th>1</th>\n",
              "      <td>the 'roseanne' revival catches up to our thorn...</td>\n",
              "      <td>0</td>\n",
              "    </tr>\n",
              "    <tr>\n",
              "      <th>2</th>\n",
              "      <td>mom starting to fear son's web series closest ...</td>\n",
              "      <td>1</td>\n",
              "    </tr>\n",
              "    <tr>\n",
              "      <th>3</th>\n",
              "      <td>boehner just wants wife to listen, not come up...</td>\n",
              "      <td>1</td>\n",
              "    </tr>\n",
              "    <tr>\n",
              "      <th>4</th>\n",
              "      <td>j.k. rowling wishes snape happy birthday in th...</td>\n",
              "      <td>0</td>\n",
              "    </tr>\n",
              "  </tbody>\n",
              "</table>\n",
              "</div>"
            ],
            "text/plain": [
              "                                            headline  is_sarcastic\n",
              "0  former versace store clerk sues over secret 'b...             0\n",
              "1  the 'roseanne' revival catches up to our thorn...             0\n",
              "2  mom starting to fear son's web series closest ...             1\n",
              "3  boehner just wants wife to listen, not come up...             1\n",
              "4  j.k. rowling wishes snape happy birthday in th...             0"
            ]
          },
          "metadata": {
            "tags": []
          },
          "execution_count": 12
        }
      ]
    },
    {
      "cell_type": "markdown",
      "metadata": {
        "id": "Zedpy5MEasgd"
      },
      "source": [
        "### Text preprocessing\n",
        "In this section we will take care of the various issues with data viz:\n",
        "\n",
        "1. Cleaning\n",
        "2. removal of special characters and punctuations\n",
        "3. handling lower and upper cases etc."
      ]
    },
    {
      "cell_type": "code",
      "metadata": {
        "colab": {
          "base_uri": "https://localhost:8080/",
          "height": 204
        },
        "id": "mJjj0jokhc4D",
        "outputId": "28dbfbce-9a10-4b39-915d-ab52612394b6"
      },
      "source": [
        "# Converting text in headline to lower case\n",
        "data['new_headline'] = data['headline'].str.lower()\n",
        "data.head()"
      ],
      "execution_count": null,
      "outputs": [
        {
          "output_type": "execute_result",
          "data": {
            "text/html": [
              "<div>\n",
              "<style scoped>\n",
              "    .dataframe tbody tr th:only-of-type {\n",
              "        vertical-align: middle;\n",
              "    }\n",
              "\n",
              "    .dataframe tbody tr th {\n",
              "        vertical-align: top;\n",
              "    }\n",
              "\n",
              "    .dataframe thead th {\n",
              "        text-align: right;\n",
              "    }\n",
              "</style>\n",
              "<table border=\"1\" class=\"dataframe\">\n",
              "  <thead>\n",
              "    <tr style=\"text-align: right;\">\n",
              "      <th></th>\n",
              "      <th>headline</th>\n",
              "      <th>is_sarcastic</th>\n",
              "      <th>new_headline</th>\n",
              "    </tr>\n",
              "  </thead>\n",
              "  <tbody>\n",
              "    <tr>\n",
              "      <th>0</th>\n",
              "      <td>former versace store clerk sues over secret 'b...</td>\n",
              "      <td>0</td>\n",
              "      <td>former versace store clerk sues over secret 'b...</td>\n",
              "    </tr>\n",
              "    <tr>\n",
              "      <th>1</th>\n",
              "      <td>the 'roseanne' revival catches up to our thorn...</td>\n",
              "      <td>0</td>\n",
              "      <td>the 'roseanne' revival catches up to our thorn...</td>\n",
              "    </tr>\n",
              "    <tr>\n",
              "      <th>2</th>\n",
              "      <td>mom starting to fear son's web series closest ...</td>\n",
              "      <td>1</td>\n",
              "      <td>mom starting to fear son's web series closest ...</td>\n",
              "    </tr>\n",
              "    <tr>\n",
              "      <th>3</th>\n",
              "      <td>boehner just wants wife to listen, not come up...</td>\n",
              "      <td>1</td>\n",
              "      <td>boehner just wants wife to listen, not come up...</td>\n",
              "    </tr>\n",
              "    <tr>\n",
              "      <th>4</th>\n",
              "      <td>j.k. rowling wishes snape happy birthday in th...</td>\n",
              "      <td>0</td>\n",
              "      <td>j.k. rowling wishes snape happy birthday in th...</td>\n",
              "    </tr>\n",
              "  </tbody>\n",
              "</table>\n",
              "</div>"
            ],
            "text/plain": [
              "                                            headline  ...                                       new_headline\n",
              "0  former versace store clerk sues over secret 'b...  ...  former versace store clerk sues over secret 'b...\n",
              "1  the 'roseanne' revival catches up to our thorn...  ...  the 'roseanne' revival catches up to our thorn...\n",
              "2  mom starting to fear son's web series closest ...  ...  mom starting to fear son's web series closest ...\n",
              "3  boehner just wants wife to listen, not come up...  ...  boehner just wants wife to listen, not come up...\n",
              "4  j.k. rowling wishes snape happy birthday in th...  ...  j.k. rowling wishes snape happy birthday in th...\n",
              "\n",
              "[5 rows x 3 columns]"
            ]
          },
          "metadata": {
            "tags": []
          },
          "execution_count": 13
        }
      ]
    },
    {
      "cell_type": "code",
      "metadata": {
        "colab": {
          "base_uri": "https://localhost:8080/",
          "height": 204
        },
        "id": "MC4qpQxhhdcq",
        "outputId": "fb0d2dc0-05eb-42b5-d33e-13f1c3be438e"
      },
      "source": [
        "#removing special characters including punctuation marks fron column new_headline\n",
        "def remove_special_characters(text):\n",
        "  specialCharacters = '''!()-[]{};:'\"\\,<>./?@#$%^&*_~'''\n",
        "  newString = ''\n",
        "  for char in text:\n",
        "    if char not in specialCharacters:\n",
        "      newString = newString + char\n",
        "  return newString\n",
        "\n",
        "data['new_headline'] = data['new_headline'].apply(remove_special_characters)\n",
        "\n",
        "data.head()\n"
      ],
      "execution_count": null,
      "outputs": [
        {
          "output_type": "execute_result",
          "data": {
            "text/html": [
              "<div>\n",
              "<style scoped>\n",
              "    .dataframe tbody tr th:only-of-type {\n",
              "        vertical-align: middle;\n",
              "    }\n",
              "\n",
              "    .dataframe tbody tr th {\n",
              "        vertical-align: top;\n",
              "    }\n",
              "\n",
              "    .dataframe thead th {\n",
              "        text-align: right;\n",
              "    }\n",
              "</style>\n",
              "<table border=\"1\" class=\"dataframe\">\n",
              "  <thead>\n",
              "    <tr style=\"text-align: right;\">\n",
              "      <th></th>\n",
              "      <th>headline</th>\n",
              "      <th>is_sarcastic</th>\n",
              "      <th>new_headline</th>\n",
              "    </tr>\n",
              "  </thead>\n",
              "  <tbody>\n",
              "    <tr>\n",
              "      <th>0</th>\n",
              "      <td>former versace store clerk sues over secret 'b...</td>\n",
              "      <td>0</td>\n",
              "      <td>former versace store clerk sues over secret bl...</td>\n",
              "    </tr>\n",
              "    <tr>\n",
              "      <th>1</th>\n",
              "      <td>the 'roseanne' revival catches up to our thorn...</td>\n",
              "      <td>0</td>\n",
              "      <td>the roseanne revival catches up to our thorny ...</td>\n",
              "    </tr>\n",
              "    <tr>\n",
              "      <th>2</th>\n",
              "      <td>mom starting to fear son's web series closest ...</td>\n",
              "      <td>1</td>\n",
              "      <td>mom starting to fear sons web series closest t...</td>\n",
              "    </tr>\n",
              "    <tr>\n",
              "      <th>3</th>\n",
              "      <td>boehner just wants wife to listen, not come up...</td>\n",
              "      <td>1</td>\n",
              "      <td>boehner just wants wife to listen not come up ...</td>\n",
              "    </tr>\n",
              "    <tr>\n",
              "      <th>4</th>\n",
              "      <td>j.k. rowling wishes snape happy birthday in th...</td>\n",
              "      <td>0</td>\n",
              "      <td>jk rowling wishes snape happy birthday in the ...</td>\n",
              "    </tr>\n",
              "  </tbody>\n",
              "</table>\n",
              "</div>"
            ],
            "text/plain": [
              "                                            headline  ...                                       new_headline\n",
              "0  former versace store clerk sues over secret 'b...  ...  former versace store clerk sues over secret bl...\n",
              "1  the 'roseanne' revival catches up to our thorn...  ...  the roseanne revival catches up to our thorny ...\n",
              "2  mom starting to fear son's web series closest ...  ...  mom starting to fear sons web series closest t...\n",
              "3  boehner just wants wife to listen, not come up...  ...  boehner just wants wife to listen not come up ...\n",
              "4  j.k. rowling wishes snape happy birthday in th...  ...  jk rowling wishes snape happy birthday in the ...\n",
              "\n",
              "[5 rows x 3 columns]"
            ]
          },
          "metadata": {
            "tags": []
          },
          "execution_count": 14
        }
      ]
    },
    {
      "cell_type": "code",
      "metadata": {
        "colab": {
          "base_uri": "https://localhost:8080/",
          "height": 204
        },
        "id": "6SBhTIgrIBno",
        "outputId": "2ea839ee-9c1c-4bcf-d1de-ff109fe8e909"
      },
      "source": [
        "#Lemmatization : finding the root words of words in each sentence\n",
        "word_tokeniser = nltk.tokenize.WhitespaceTokenizer()\n",
        "word_lemmatiser = nltk.stem.WordNetLemmatizer()\n",
        "\n",
        "\n",
        "\n",
        "#defining a function for lemmatisation\n",
        "def text_lemmatizer(sentences):\n",
        "  lst = [word_lemmatiser.lemmatize(w) for w in word_tokeniser.tokenize(sentences)]\n",
        "  sent = ''\n",
        "  for i in range(len(lst)):\n",
        "    sent = sent + ' ' + lst[i]\n",
        "  return sent\n",
        "\n",
        "\n",
        "data['new_headline'] =  data['new_headline'].apply(lambda x: text_lemmatizer(x))\n",
        "data.head()\n"
      ],
      "execution_count": null,
      "outputs": [
        {
          "output_type": "execute_result",
          "data": {
            "text/html": [
              "<div>\n",
              "<style scoped>\n",
              "    .dataframe tbody tr th:only-of-type {\n",
              "        vertical-align: middle;\n",
              "    }\n",
              "\n",
              "    .dataframe tbody tr th {\n",
              "        vertical-align: top;\n",
              "    }\n",
              "\n",
              "    .dataframe thead th {\n",
              "        text-align: right;\n",
              "    }\n",
              "</style>\n",
              "<table border=\"1\" class=\"dataframe\">\n",
              "  <thead>\n",
              "    <tr style=\"text-align: right;\">\n",
              "      <th></th>\n",
              "      <th>headline</th>\n",
              "      <th>is_sarcastic</th>\n",
              "      <th>new_headline</th>\n",
              "    </tr>\n",
              "  </thead>\n",
              "  <tbody>\n",
              "    <tr>\n",
              "      <th>0</th>\n",
              "      <td>former versace store clerk sues over secret 'b...</td>\n",
              "      <td>0</td>\n",
              "      <td>former versace store clerk sue over secret bl...</td>\n",
              "    </tr>\n",
              "    <tr>\n",
              "      <th>1</th>\n",
              "      <td>the 'roseanne' revival catches up to our thorn...</td>\n",
              "      <td>0</td>\n",
              "      <td>the roseanne revival catch up to our thorny p...</td>\n",
              "    </tr>\n",
              "    <tr>\n",
              "      <th>2</th>\n",
              "      <td>mom starting to fear son's web series closest ...</td>\n",
              "      <td>1</td>\n",
              "      <td>mom starting to fear son web series closest t...</td>\n",
              "    </tr>\n",
              "    <tr>\n",
              "      <th>3</th>\n",
              "      <td>boehner just wants wife to listen, not come up...</td>\n",
              "      <td>1</td>\n",
              "      <td>boehner just want wife to listen not come up ...</td>\n",
              "    </tr>\n",
              "    <tr>\n",
              "      <th>4</th>\n",
              "      <td>j.k. rowling wishes snape happy birthday in th...</td>\n",
              "      <td>0</td>\n",
              "      <td>jk rowling wish snape happy birthday in the m...</td>\n",
              "    </tr>\n",
              "  </tbody>\n",
              "</table>\n",
              "</div>"
            ],
            "text/plain": [
              "                                            headline  ...                                       new_headline\n",
              "0  former versace store clerk sues over secret 'b...  ...   former versace store clerk sue over secret bl...\n",
              "1  the 'roseanne' revival catches up to our thorn...  ...   the roseanne revival catch up to our thorny p...\n",
              "2  mom starting to fear son's web series closest ...  ...   mom starting to fear son web series closest t...\n",
              "3  boehner just wants wife to listen, not come up...  ...   boehner just want wife to listen not come up ...\n",
              "4  j.k. rowling wishes snape happy birthday in th...  ...   jk rowling wish snape happy birthday in the m...\n",
              "\n",
              "[5 rows x 3 columns]"
            ]
          },
          "metadata": {
            "tags": []
          },
          "execution_count": 17
        }
      ]
    },
    {
      "cell_type": "markdown",
      "metadata": {
        "id": "shnzWQifTppx"
      },
      "source": [
        "In above section we have lemmatized words in each sentence and then converted the tokens back to original sentence\n",
        "\n",
        "Overall all the sentences have been converted to lower case, punctuations removed and lemmatized\n",
        "\n",
        "Also, we can see some leading spaces in the begining of the sentences in the column new_headline. We shall trim all the spaces as the final preprocessing step."
      ]
    },
    {
      "cell_type": "code",
      "metadata": {
        "colab": {
          "base_uri": "https://localhost:8080/",
          "height": 204
        },
        "id": "v6HpFF2RQJ7F",
        "outputId": "db77f8b5-1899-4120-8ed8-9c7a176141ed"
      },
      "source": [
        "# removing leading spaces and double spaces from new_headline column\n",
        "# we will keep individual spaces to maintain the sentence as it is\n",
        "\n",
        "# to remove leading and trailing spaces\n",
        "data['new_headline'] = data['new_headline'].str.strip()\n",
        "data.head()"
      ],
      "execution_count": null,
      "outputs": [
        {
          "output_type": "execute_result",
          "data": {
            "text/html": [
              "<div>\n",
              "<style scoped>\n",
              "    .dataframe tbody tr th:only-of-type {\n",
              "        vertical-align: middle;\n",
              "    }\n",
              "\n",
              "    .dataframe tbody tr th {\n",
              "        vertical-align: top;\n",
              "    }\n",
              "\n",
              "    .dataframe thead th {\n",
              "        text-align: right;\n",
              "    }\n",
              "</style>\n",
              "<table border=\"1\" class=\"dataframe\">\n",
              "  <thead>\n",
              "    <tr style=\"text-align: right;\">\n",
              "      <th></th>\n",
              "      <th>headline</th>\n",
              "      <th>is_sarcastic</th>\n",
              "      <th>new_headline</th>\n",
              "    </tr>\n",
              "  </thead>\n",
              "  <tbody>\n",
              "    <tr>\n",
              "      <th>0</th>\n",
              "      <td>former versace store clerk sues over secret 'b...</td>\n",
              "      <td>0</td>\n",
              "      <td>former versace store clerk sue over secret bla...</td>\n",
              "    </tr>\n",
              "    <tr>\n",
              "      <th>1</th>\n",
              "      <td>the 'roseanne' revival catches up to our thorn...</td>\n",
              "      <td>0</td>\n",
              "      <td>the roseanne revival catch up to our thorny po...</td>\n",
              "    </tr>\n",
              "    <tr>\n",
              "      <th>2</th>\n",
              "      <td>mom starting to fear son's web series closest ...</td>\n",
              "      <td>1</td>\n",
              "      <td>mom starting to fear son web series closest th...</td>\n",
              "    </tr>\n",
              "    <tr>\n",
              "      <th>3</th>\n",
              "      <td>boehner just wants wife to listen, not come up...</td>\n",
              "      <td>1</td>\n",
              "      <td>boehner just want wife to listen not come up w...</td>\n",
              "    </tr>\n",
              "    <tr>\n",
              "      <th>4</th>\n",
              "      <td>j.k. rowling wishes snape happy birthday in th...</td>\n",
              "      <td>0</td>\n",
              "      <td>jk rowling wish snape happy birthday in the mo...</td>\n",
              "    </tr>\n",
              "  </tbody>\n",
              "</table>\n",
              "</div>"
            ],
            "text/plain": [
              "                                            headline  ...                                       new_headline\n",
              "0  former versace store clerk sues over secret 'b...  ...  former versace store clerk sue over secret bla...\n",
              "1  the 'roseanne' revival catches up to our thorn...  ...  the roseanne revival catch up to our thorny po...\n",
              "2  mom starting to fear son's web series closest ...  ...  mom starting to fear son web series closest th...\n",
              "3  boehner just wants wife to listen, not come up...  ...  boehner just want wife to listen not come up w...\n",
              "4  j.k. rowling wishes snape happy birthday in th...  ...  jk rowling wish snape happy birthday in the mo...\n",
              "\n",
              "[5 rows x 3 columns]"
            ]
          },
          "metadata": {
            "tags": []
          },
          "execution_count": 19
        }
      ]
    },
    {
      "cell_type": "code",
      "metadata": {
        "colab": {
          "base_uri": "https://localhost:8080/",
          "height": 204
        },
        "id": "krLnsie7QJ5c",
        "outputId": "d30a0f3c-1644-407f-ba3c-9f18afabe181"
      },
      "source": [
        "## remove more than one spaces\n",
        "data['new_headline'] = data['new_headline'].str.replace(\"  \",\"\")\n",
        "data.head()"
      ],
      "execution_count": null,
      "outputs": [
        {
          "output_type": "execute_result",
          "data": {
            "text/html": [
              "<div>\n",
              "<style scoped>\n",
              "    .dataframe tbody tr th:only-of-type {\n",
              "        vertical-align: middle;\n",
              "    }\n",
              "\n",
              "    .dataframe tbody tr th {\n",
              "        vertical-align: top;\n",
              "    }\n",
              "\n",
              "    .dataframe thead th {\n",
              "        text-align: right;\n",
              "    }\n",
              "</style>\n",
              "<table border=\"1\" class=\"dataframe\">\n",
              "  <thead>\n",
              "    <tr style=\"text-align: right;\">\n",
              "      <th></th>\n",
              "      <th>headline</th>\n",
              "      <th>is_sarcastic</th>\n",
              "      <th>new_headline</th>\n",
              "    </tr>\n",
              "  </thead>\n",
              "  <tbody>\n",
              "    <tr>\n",
              "      <th>0</th>\n",
              "      <td>former versace store clerk sues over secret 'b...</td>\n",
              "      <td>0</td>\n",
              "      <td>former versace store clerk sue over secret bla...</td>\n",
              "    </tr>\n",
              "    <tr>\n",
              "      <th>1</th>\n",
              "      <td>the 'roseanne' revival catches up to our thorn...</td>\n",
              "      <td>0</td>\n",
              "      <td>the roseanne revival catch up to our thorny po...</td>\n",
              "    </tr>\n",
              "    <tr>\n",
              "      <th>2</th>\n",
              "      <td>mom starting to fear son's web series closest ...</td>\n",
              "      <td>1</td>\n",
              "      <td>mom starting to fear son web series closest th...</td>\n",
              "    </tr>\n",
              "    <tr>\n",
              "      <th>3</th>\n",
              "      <td>boehner just wants wife to listen, not come up...</td>\n",
              "      <td>1</td>\n",
              "      <td>boehner just want wife to listen not come up w...</td>\n",
              "    </tr>\n",
              "    <tr>\n",
              "      <th>4</th>\n",
              "      <td>j.k. rowling wishes snape happy birthday in th...</td>\n",
              "      <td>0</td>\n",
              "      <td>jk rowling wish snape happy birthday in the mo...</td>\n",
              "    </tr>\n",
              "  </tbody>\n",
              "</table>\n",
              "</div>"
            ],
            "text/plain": [
              "                                            headline  ...                                       new_headline\n",
              "0  former versace store clerk sues over secret 'b...  ...  former versace store clerk sue over secret bla...\n",
              "1  the 'roseanne' revival catches up to our thorn...  ...  the roseanne revival catch up to our thorny po...\n",
              "2  mom starting to fear son's web series closest ...  ...  mom starting to fear son web series closest th...\n",
              "3  boehner just wants wife to listen, not come up...  ...  boehner just want wife to listen not come up w...\n",
              "4  j.k. rowling wishes snape happy birthday in th...  ...  jk rowling wish snape happy birthday in the mo...\n",
              "\n",
              "[5 rows x 3 columns]"
            ]
          },
          "metadata": {
            "tags": []
          },
          "execution_count": 20
        }
      ]
    },
    {
      "cell_type": "markdown",
      "metadata": {
        "id": "D0h6IOxU8OdH"
      },
      "source": [
        "### Get length of each headline and add a column for that"
      ]
    },
    {
      "cell_type": "code",
      "metadata": {
        "id": "MLpiBRDmEV2l"
      },
      "source": [
        "lstLength = []\n",
        "for idx,row in data.iterrows():\n",
        "  lstLength.append(len(row[0]))\n",
        "\n",
        "data['word_count'] = lstLength"
      ],
      "execution_count": null,
      "outputs": []
    },
    {
      "cell_type": "code",
      "metadata": {
        "colab": {
          "base_uri": "https://localhost:8080/",
          "height": 204
        },
        "id": "h6Cbi0IUiCqV",
        "outputId": "8d27e8c1-2b92-461b-bb4c-cee784d18277"
      },
      "source": [
        "data.head()"
      ],
      "execution_count": null,
      "outputs": [
        {
          "output_type": "execute_result",
          "data": {
            "text/html": [
              "<div>\n",
              "<style scoped>\n",
              "    .dataframe tbody tr th:only-of-type {\n",
              "        vertical-align: middle;\n",
              "    }\n",
              "\n",
              "    .dataframe tbody tr th {\n",
              "        vertical-align: top;\n",
              "    }\n",
              "\n",
              "    .dataframe thead th {\n",
              "        text-align: right;\n",
              "    }\n",
              "</style>\n",
              "<table border=\"1\" class=\"dataframe\">\n",
              "  <thead>\n",
              "    <tr style=\"text-align: right;\">\n",
              "      <th></th>\n",
              "      <th>headline</th>\n",
              "      <th>is_sarcastic</th>\n",
              "      <th>new_headline</th>\n",
              "      <th>word_count</th>\n",
              "    </tr>\n",
              "  </thead>\n",
              "  <tbody>\n",
              "    <tr>\n",
              "      <th>0</th>\n",
              "      <td>former versace store clerk sues over secret 'b...</td>\n",
              "      <td>0</td>\n",
              "      <td>former versace store clerk sue over secret bla...</td>\n",
              "      <td>78</td>\n",
              "    </tr>\n",
              "    <tr>\n",
              "      <th>1</th>\n",
              "      <td>the 'roseanne' revival catches up to our thorn...</td>\n",
              "      <td>0</td>\n",
              "      <td>the roseanne revival catch up to our thorny po...</td>\n",
              "      <td>84</td>\n",
              "    </tr>\n",
              "    <tr>\n",
              "      <th>2</th>\n",
              "      <td>mom starting to fear son's web series closest ...</td>\n",
              "      <td>1</td>\n",
              "      <td>mom starting to fear son web series closest th...</td>\n",
              "      <td>79</td>\n",
              "    </tr>\n",
              "    <tr>\n",
              "      <th>3</th>\n",
              "      <td>boehner just wants wife to listen, not come up...</td>\n",
              "      <td>1</td>\n",
              "      <td>boehner just want wife to listen not come up w...</td>\n",
              "      <td>84</td>\n",
              "    </tr>\n",
              "    <tr>\n",
              "      <th>4</th>\n",
              "      <td>j.k. rowling wishes snape happy birthday in th...</td>\n",
              "      <td>0</td>\n",
              "      <td>jk rowling wish snape happy birthday in the mo...</td>\n",
              "      <td>64</td>\n",
              "    </tr>\n",
              "  </tbody>\n",
              "</table>\n",
              "</div>"
            ],
            "text/plain": [
              "                                            headline  ...  word_count\n",
              "0  former versace store clerk sues over secret 'b...  ...          78\n",
              "1  the 'roseanne' revival catches up to our thorn...  ...          84\n",
              "2  mom starting to fear son's web series closest ...  ...          79\n",
              "3  boehner just wants wife to listen, not come up...  ...          84\n",
              "4  j.k. rowling wishes snape happy birthday in th...  ...          64\n",
              "\n",
              "[5 rows x 4 columns]"
            ]
          },
          "metadata": {
            "tags": []
          },
          "execution_count": 22
        }
      ]
    },
    {
      "cell_type": "code",
      "metadata": {
        "colab": {
          "base_uri": "https://localhost:8080/"
        },
        "id": "qKH6YYptiUSd",
        "outputId": "f1be08e6-6f18-4657-b5ff-c3ae176cfd58"
      },
      "source": [
        "## Analysing dataset based on word count in each headline\n",
        "print('Analysis of the complete dataset')\n",
        "data['word_count'].describe()"
      ],
      "execution_count": null,
      "outputs": [
        {
          "output_type": "stream",
          "text": [
            "Analysis of the complete dataset\n"
          ],
          "name": "stdout"
        },
        {
          "output_type": "execute_result",
          "data": {
            "text/plain": [
              "count    26708.000000\n",
              "mean        60.911862\n",
              "std         19.183707\n",
              "min          7.000000\n",
              "25%         48.000000\n",
              "50%         61.000000\n",
              "75%         73.000000\n",
              "max        254.000000\n",
              "Name: word_count, dtype: float64"
            ]
          },
          "metadata": {
            "tags": []
          },
          "execution_count": 23
        }
      ]
    },
    {
      "cell_type": "markdown",
      "metadata": {
        "id": "VrOU5IzFi1jb"
      },
      "source": [
        "1. min number of words are 7 while max is 254\n",
        "2. Mean = 60 and median count = 61 are close to each other. there doesnot seem to be any skewness in the length of the dataset"
      ]
    },
    {
      "cell_type": "code",
      "metadata": {
        "colab": {
          "base_uri": "https://localhost:8080/"
        },
        "id": "1hQjNohbjHRU",
        "outputId": "940bb788-ed83-4c97-e983-cd2927db0c8f"
      },
      "source": [
        "data[data['is_sarcastic']==0]['word_count'].describe()"
      ],
      "execution_count": null,
      "outputs": [
        {
          "output_type": "execute_result",
          "data": {
            "text/plain": [
              "count    14984.000000\n",
              "mean        59.560798\n",
              "std         17.317411\n",
              "min          7.000000\n",
              "25%         48.000000\n",
              "50%         61.000000\n",
              "75%         71.000000\n",
              "max        228.000000\n",
              "Name: word_count, dtype: float64"
            ]
          },
          "metadata": {
            "tags": []
          },
          "execution_count": 25
        }
      ]
    },
    {
      "cell_type": "code",
      "metadata": {
        "colab": {
          "base_uri": "https://localhost:8080/"
        },
        "id": "fo_qo54wjeWv",
        "outputId": "213eed93-0722-4700-d69e-1f20d4b57f39"
      },
      "source": [
        "data[data['is_sarcastic']==1]['word_count'].describe()"
      ],
      "execution_count": null,
      "outputs": [
        {
          "output_type": "execute_result",
          "data": {
            "text/plain": [
              "count    11724.000000\n",
              "mean        62.638605\n",
              "std         21.208409\n",
              "min          8.000000\n",
              "25%         48.000000\n",
              "50%         61.000000\n",
              "75%         76.000000\n",
              "max        254.000000\n",
              "Name: word_count, dtype: float64"
            ]
          },
          "metadata": {
            "tags": []
          },
          "execution_count": 26
        }
      ]
    },
    {
      "cell_type": "markdown",
      "metadata": {
        "id": "SMF-wjJ2aMwm"
      },
      "source": [
        "### Initialize parameter values\n",
        "- Set values for max_features, maxlen, & embedding_size\n",
        "- max_features: Number of words to take from tokenizer(most frequent words)\n",
        "- maxlen: Maximum length of each sentence to be limited to 25\n",
        "- embedding_size: size of embedding vector"
      ]
    },
    {
      "cell_type": "code",
      "metadata": {
        "id": "jPw9gAN_EV6m"
      },
      "source": [
        "max_features = 10000\n",
        "maxlen = 25\n",
        "embedding_size = 200"
      ],
      "execution_count": null,
      "outputs": []
    },
    {
      "cell_type": "markdown",
      "metadata": {
        "id": "9abSe-bM8fn9"
      },
      "source": [
        "### Apply `tensorflow.keras` Tokenizer and get indices for words\n",
        "- Initialize Tokenizer object with number of words as 10000\n",
        "- Fit the tokenizer object on headline column\n",
        "- Convert the text to sequence\n"
      ]
    },
    {
      "cell_type": "code",
      "metadata": {
        "id": "y8g4l0KfF3eh"
      },
      "source": [
        "tokenizer = Tokenizer(num_words = max_features)\n",
        "tokenizer.fit_on_texts(list(data['new_headline']))"
      ],
      "execution_count": null,
      "outputs": []
    },
    {
      "cell_type": "code",
      "metadata": {
        "colab": {
          "base_uri": "https://localhost:8080/",
          "height": 204
        },
        "id": "4WYUqdr6WYjH",
        "outputId": "53a44be0-59f6-4786-be74-bb3dff3cb5a0"
      },
      "source": [
        "data.head()"
      ],
      "execution_count": null,
      "outputs": [
        {
          "output_type": "execute_result",
          "data": {
            "text/html": [
              "<div>\n",
              "<style scoped>\n",
              "    .dataframe tbody tr th:only-of-type {\n",
              "        vertical-align: middle;\n",
              "    }\n",
              "\n",
              "    .dataframe tbody tr th {\n",
              "        vertical-align: top;\n",
              "    }\n",
              "\n",
              "    .dataframe thead th {\n",
              "        text-align: right;\n",
              "    }\n",
              "</style>\n",
              "<table border=\"1\" class=\"dataframe\">\n",
              "  <thead>\n",
              "    <tr style=\"text-align: right;\">\n",
              "      <th></th>\n",
              "      <th>headline</th>\n",
              "      <th>is_sarcastic</th>\n",
              "      <th>new_headline</th>\n",
              "      <th>word_count</th>\n",
              "    </tr>\n",
              "  </thead>\n",
              "  <tbody>\n",
              "    <tr>\n",
              "      <th>0</th>\n",
              "      <td>former versace store clerk sues over secret 'b...</td>\n",
              "      <td>0</td>\n",
              "      <td>former versace store clerk sue over secret bla...</td>\n",
              "      <td>78</td>\n",
              "    </tr>\n",
              "    <tr>\n",
              "      <th>1</th>\n",
              "      <td>the 'roseanne' revival catches up to our thorn...</td>\n",
              "      <td>0</td>\n",
              "      <td>the roseanne revival catch up to our thorny po...</td>\n",
              "      <td>84</td>\n",
              "    </tr>\n",
              "    <tr>\n",
              "      <th>2</th>\n",
              "      <td>mom starting to fear son's web series closest ...</td>\n",
              "      <td>1</td>\n",
              "      <td>mom starting to fear son web series closest th...</td>\n",
              "      <td>79</td>\n",
              "    </tr>\n",
              "    <tr>\n",
              "      <th>3</th>\n",
              "      <td>boehner just wants wife to listen, not come up...</td>\n",
              "      <td>1</td>\n",
              "      <td>boehner just want wife to listen not come up w...</td>\n",
              "      <td>84</td>\n",
              "    </tr>\n",
              "    <tr>\n",
              "      <th>4</th>\n",
              "      <td>j.k. rowling wishes snape happy birthday in th...</td>\n",
              "      <td>0</td>\n",
              "      <td>jk rowling wish snape happy birthday in the mo...</td>\n",
              "      <td>64</td>\n",
              "    </tr>\n",
              "  </tbody>\n",
              "</table>\n",
              "</div>"
            ],
            "text/plain": [
              "                                            headline  ...  word_count\n",
              "0  former versace store clerk sues over secret 'b...  ...          78\n",
              "1  the 'roseanne' revival catches up to our thorn...  ...          84\n",
              "2  mom starting to fear son's web series closest ...  ...          79\n",
              "3  boehner just wants wife to listen, not come up...  ...          84\n",
              "4  j.k. rowling wishes snape happy birthday in th...  ...          64\n",
              "\n",
              "[5 rows x 4 columns]"
            ]
          },
          "metadata": {
            "tags": []
          },
          "execution_count": 29
        }
      ]
    },
    {
      "cell_type": "markdown",
      "metadata": {
        "id": "xeZpwPO4bOkZ"
      },
      "source": [
        "### Pad sequences \n",
        "- Pad each example with a maximum length\n",
        "- Convert target column into numpy array"
      ]
    },
    {
      "cell_type": "code",
      "metadata": {
        "id": "qV0K70E5c9Xl"
      },
      "source": [
        "headlines = tokenizer.texts_to_sequences(data['new_headline'])"
      ],
      "execution_count": null,
      "outputs": []
    },
    {
      "cell_type": "code",
      "metadata": {
        "id": "-lvx-TKaSs2n"
      },
      "source": [
        "X = pad_sequences(headlines,maxlen=maxlen)"
      ],
      "execution_count": null,
      "outputs": []
    },
    {
      "cell_type": "code",
      "metadata": {
        "colab": {
          "base_uri": "https://localhost:8080/"
        },
        "id": "06npQf3vSstY",
        "outputId": "59502d2a-d544-44e2-c58e-0acf7a8c29c9"
      },
      "source": [
        "#printing an example sequence\n",
        "X[0]"
      ],
      "execution_count": null,
      "outputs": [
        {
          "output_type": "execute_result",
          "data": {
            "text/plain": [
              "array([   0,    0,    0,    0,    0,    0,    0,    0,    0,    0,    0,\n",
              "          0,    0,    0,  330,  694, 2947, 1268,   54,  293,  102, 1933,\n",
              "          6, 2033, 3633], dtype=int32)"
            ]
          },
          "metadata": {
            "tags": []
          },
          "execution_count": 37
        }
      ]
    },
    {
      "cell_type": "markdown",
      "metadata": {
        "id": "0nwNkddXTumM"
      },
      "source": [
        "##### Preparing labels"
      ]
    },
    {
      "cell_type": "code",
      "metadata": {
        "colab": {
          "base_uri": "https://localhost:8080/"
        },
        "id": "8ksOlk4oTtmJ",
        "outputId": "392e67a4-ceda-4538-d945-67cdc338265c"
      },
      "source": [
        "y = np.asarray(data['is_sarcastic'])\n",
        "y[0]"
      ],
      "execution_count": null,
      "outputs": [
        {
          "output_type": "execute_result",
          "data": {
            "text/plain": [
              "0"
            ]
          },
          "metadata": {
            "tags": []
          },
          "execution_count": 38
        }
      ]
    },
    {
      "cell_type": "markdown",
      "metadata": {
        "id": "GgUTx-qHYddT"
      },
      "source": [
        "##### Preparing train and test set"
      ]
    },
    {
      "cell_type": "code",
      "metadata": {
        "id": "AyTnvA2qYd4b"
      },
      "source": [
        "X_train,X_test,y_train,y_test = train_test_split(X,y,test_size=0.25,random_state=random_state)"
      ],
      "execution_count": null,
      "outputs": []
    },
    {
      "cell_type": "code",
      "metadata": {
        "colab": {
          "base_uri": "https://localhost:8080/"
        },
        "id": "kDu0kgo7YxmX",
        "outputId": "7cec201b-eff2-4dea-dd30-d248a0024d43"
      },
      "source": [
        "print('Size of training dataset       : {0}'.format(X_train.shape[0]))\n",
        "print('Size of test dataset           : {0}'.format(X_test.shape[0]))\n",
        "print('Size of training labels        : {0}'.format(y_train.shape[0]))\n",
        "print('Size of test labels            : {0}'.format(y_test.shape[0]))\n"
      ],
      "execution_count": null,
      "outputs": [
        {
          "output_type": "stream",
          "text": [
            "Size of training dataset       : 20031\n",
            "Size of test dataset           : 6677\n",
            "Size of training labels        : 20031\n",
            "Size of test labels            : 6677\n"
          ],
          "name": "stdout"
        }
      ]
    },
    {
      "cell_type": "markdown",
      "metadata": {
        "id": "WJLyKg-98rH_"
      },
      "source": [
        "### Vocab mapping\n",
        "- There is no word for 0th index"
      ]
    },
    {
      "cell_type": "markdown",
      "metadata": {
        "id": "VRiNX58Rb3oJ"
      },
      "source": [
        "### Set number of words\n",
        "- Since the above 0th index doesn't have a word, add 1 to the length of the vocabulary"
      ]
    },
    {
      "cell_type": "code",
      "metadata": {
        "id": "Dfwq6ou8ck2f",
        "colab": {
          "base_uri": "https://localhost:8080/"
        },
        "outputId": "b8bd8c4c-fb29-43fa-9191-b9577162d139"
      },
      "source": [
        "vocab = tokenizer.word_index\n",
        "vocab_size = len(vocab) + 1 #no word ar zeroth index\n",
        "print('Vocabulary size or number of unique words : {0}'.format(vocab_size))"
      ],
      "execution_count": null,
      "outputs": [
        {
          "output_type": "stream",
          "text": [
            "Vocabulary size or number of unique words : 24981\n"
          ],
          "name": "stdout"
        }
      ]
    },
    {
      "cell_type": "markdown",
      "metadata": {
        "id": "bUF1TuQa8ux0"
      },
      "source": [
        "### Load Glove Word Embeddings "
      ]
    },
    {
      "cell_type": "code",
      "metadata": {
        "id": "vq5AIfRtMeZh"
      },
      "source": [
        "glove_file = 'glove.6B.zip'"
      ],
      "execution_count": null,
      "outputs": []
    },
    {
      "cell_type": "markdown",
      "metadata": {
        "id": "prHSzdQUcZhm"
      },
      "source": [
        "### Create embedding matrix"
      ]
    },
    {
      "cell_type": "code",
      "metadata": {
        "id": "BNuBFjlvOxWu"
      },
      "source": [
        "#Extracting zip file\n",
        "with ZipFile(glove_file,'r') as zp:\n",
        "  zp.extractall()"
      ],
      "execution_count": null,
      "outputs": []
    },
    {
      "cell_type": "code",
      "metadata": {
        "id": "elZ-T5aFGZmZ"
      },
      "source": [
        "EMBEDDING_FILE = './glove.6B.200d.txt'\n",
        "\n",
        "embeddings = {}\n",
        "for o in open(EMBEDDING_FILE):\n",
        "    word = o.split(\" \")[0]\n",
        "    # print(word)\n",
        "    embd = o.split(\" \")[1:]\n",
        "    embd = np.asarray(embd, dtype='float32')\n",
        "    # print(embd)\n",
        "    embeddings[word] = embd\n",
        "\n",
        "# create a weight matrix for words in training docs\n",
        "embedding_matrix = np.zeros((vocab_size, 200))\n",
        "\n",
        "for word, i in tokenizer.word_index.items():\n",
        "\tembedding_vector = embeddings.get(word)\n",
        "\tif embedding_vector is not None:\n",
        "\t\tembedding_matrix[i] = embedding_vector"
      ],
      "execution_count": null,
      "outputs": []
    },
    {
      "cell_type": "code",
      "metadata": {
        "colab": {
          "base_uri": "https://localhost:8080/"
        },
        "id": "bkqVBIgGXstc",
        "outputId": "0b685d04-b776-4ea8-c682-382412cf2990"
      },
      "source": [
        "print(len(embeddings))"
      ],
      "execution_count": null,
      "outputs": [
        {
          "output_type": "stream",
          "text": [
            "400000\n"
          ],
          "name": "stdout"
        }
      ]
    },
    {
      "cell_type": "markdown",
      "metadata": {
        "id": "u7IbWuEX82Ra"
      },
      "source": [
        "### Define model\n",
        "- Hint: Use Sequential model instance and then add Embedding layer, Bidirectional(LSTM) layer, flatten it, then dense and dropout layers as required. \n",
        "In the end add a final dense layer with sigmoid activation for binary classification."
      ]
    },
    {
      "cell_type": "code",
      "metadata": {
        "id": "4tv168Gmc3PY"
      },
      "source": [
        "model = Sequential()\n",
        "#adding embedding layer\n",
        "model.add(Embedding(vocab_size,embedding_size,embeddings_initializer=Constant(embedding_matrix),input_length=maxlen,trainable=False))\n",
        "#adding Bidirectional LSTM layer\n",
        "model.add(Bidirectional(LSTM(128,return_sequences=True)))\n",
        "model.add(GlobalMaxPool1D())\n",
        "#Flatten Layer\n",
        "model.add(Flatten())\n",
        "model.add(Dropout(0.5))\n",
        "\n",
        "#Dense and Dropout layers\n",
        "model.add(Dense(128,activation='relu'))\n",
        "model.add(Dropout(0.5))\n",
        "model.add(Dense(64,activation='relu'))\n",
        "model.add(Dropout(0.5))\n",
        "\n",
        "#final dense layer with Sigmoid layer\n",
        "model.add(Dense(1,activation='sigmoid'))\n",
        "\n",
        "\n",
        "\n"
      ],
      "execution_count": null,
      "outputs": []
    },
    {
      "cell_type": "code",
      "metadata": {
        "colab": {
          "base_uri": "https://localhost:8080/"
        },
        "id": "hUCJ-ocEcpOO",
        "outputId": "8a27de4d-3978-4e88-9bcb-6a5372a4614c"
      },
      "source": [
        "print(model.summary())"
      ],
      "execution_count": null,
      "outputs": [
        {
          "output_type": "stream",
          "text": [
            "Model: \"sequential_9\"\n",
            "_________________________________________________________________\n",
            "Layer (type)                 Output Shape              Param #   \n",
            "=================================================================\n",
            "embedding_9 (Embedding)      (None, 25, 200)           4996200   \n",
            "_________________________________________________________________\n",
            "bidirectional_9 (Bidirection (None, 25, 256)           336896    \n",
            "_________________________________________________________________\n",
            "global_max_pooling1d_7 (Glob (None, 256)               0         \n",
            "_________________________________________________________________\n",
            "flatten_7 (Flatten)          (None, 256)               0         \n",
            "_________________________________________________________________\n",
            "dropout_25 (Dropout)         (None, 256)               0         \n",
            "_________________________________________________________________\n",
            "dense_27 (Dense)             (None, 128)               32896     \n",
            "_________________________________________________________________\n",
            "dropout_26 (Dropout)         (None, 128)               0         \n",
            "_________________________________________________________________\n",
            "dense_28 (Dense)             (None, 64)                8256      \n",
            "_________________________________________________________________\n",
            "dropout_27 (Dropout)         (None, 64)                0         \n",
            "_________________________________________________________________\n",
            "dense_29 (Dense)             (None, 1)                 65        \n",
            "=================================================================\n",
            "Total params: 5,374,313\n",
            "Trainable params: 378,113\n",
            "Non-trainable params: 4,996,200\n",
            "_________________________________________________________________\n",
            "None\n"
          ],
          "name": "stdout"
        }
      ]
    },
    {
      "cell_type": "markdown",
      "metadata": {
        "id": "xoI7_8Y1cqTj"
      },
      "source": [
        "### Compile the model"
      ]
    },
    {
      "cell_type": "code",
      "metadata": {
        "id": "-jJiPHeNoJ3U"
      },
      "source": [
        "# defining callbacks\n",
        "\n",
        "earlyStopping = EarlyStopping(monitor='val_loss',mode='min',patience=5,verbose=1)\n",
        "modelCheckpoint = ModelCheckpoint('sarcasm_model.h5',monitor='val_loss',verbose=1,save_best_only=True,mode='min')\n",
        "reduceLR = ReduceLROnPlateau(monitor='val_loss',patience=5,factor=0.1)\n",
        "\n",
        "callbacks = [earlyStopping,modelCheckpoint,reduceLR]"
      ],
      "execution_count": null,
      "outputs": []
    },
    {
      "cell_type": "code",
      "metadata": {
        "id": "__LQ0JjHeNB2"
      },
      "source": [
        "#compiling the model\n",
        "model.compile(optimizer='adam',loss='binary_crossentropy',metrics=['accuracy'])"
      ],
      "execution_count": null,
      "outputs": []
    },
    {
      "cell_type": "markdown",
      "metadata": {
        "id": "7s4nmqcecw3a"
      },
      "source": [
        "### Fit the model"
      ]
    },
    {
      "cell_type": "code",
      "metadata": {
        "id": "NN789zNnJ5PL",
        "colab": {
          "base_uri": "https://localhost:8080/"
        },
        "outputId": "5f490c0a-9b00-4022-9477-a5a109936df9"
      },
      "source": [
        "batch_size=100\n",
        "epochs=6\n",
        "training = model.fit(X_train,y_train,batch_size=batch_size,epochs=epochs,verbose=1,callbacks=callbacks,validation_data=(X_test,y_test))"
      ],
      "execution_count": null,
      "outputs": [
        {
          "output_type": "stream",
          "text": [
            "Epoch 1/6\n",
            "196/201 [============================>.] - ETA: 0s - loss: 0.5905 - accuracy: 0.6754\n",
            "Epoch 00001: val_loss improved from inf to 0.45169, saving model to sarcasm_model.h5\n",
            "201/201 [==============================] - 7s 34ms/step - loss: 0.5887 - accuracy: 0.6771 - val_loss: 0.4517 - val_accuracy: 0.7918\n",
            "Epoch 2/6\n",
            "199/201 [============================>.] - ETA: 0s - loss: 0.4349 - accuracy: 0.8029\n",
            "Epoch 00002: val_loss improved from 0.45169 to 0.38946, saving model to sarcasm_model.h5\n",
            "201/201 [==============================] - 8s 39ms/step - loss: 0.4351 - accuracy: 0.8025 - val_loss: 0.3895 - val_accuracy: 0.8237\n",
            "Epoch 3/6\n",
            "198/201 [============================>.] - ETA: 0s - loss: 0.3666 - accuracy: 0.8428\n",
            "Epoch 00003: val_loss improved from 0.38946 to 0.36764, saving model to sarcasm_model.h5\n",
            "201/201 [==============================] - 7s 34ms/step - loss: 0.3666 - accuracy: 0.8426 - val_loss: 0.3676 - val_accuracy: 0.8388\n",
            "Epoch 4/6\n",
            "195/201 [============================>.] - ETA: 0s - loss: 0.3259 - accuracy: 0.8629\n",
            "Epoch 00004: val_loss improved from 0.36764 to 0.33638, saving model to sarcasm_model.h5\n",
            "201/201 [==============================] - 6s 29ms/step - loss: 0.3257 - accuracy: 0.8630 - val_loss: 0.3364 - val_accuracy: 0.8561\n",
            "Epoch 5/6\n",
            "198/201 [============================>.] - ETA: 0s - loss: 0.2841 - accuracy: 0.8808\n",
            "Epoch 00005: val_loss improved from 0.33638 to 0.33343, saving model to sarcasm_model.h5\n",
            "201/201 [==============================] - 6s 31ms/step - loss: 0.2845 - accuracy: 0.8806 - val_loss: 0.3334 - val_accuracy: 0.8538\n",
            "Epoch 6/6\n",
            "201/201 [==============================] - ETA: 0s - loss: 0.2583 - accuracy: 0.8967\n",
            "Epoch 00006: val_loss improved from 0.33343 to 0.32219, saving model to sarcasm_model.h5\n",
            "201/201 [==============================] - 6s 31ms/step - loss: 0.2583 - accuracy: 0.8967 - val_loss: 0.3222 - val_accuracy: 0.8604\n"
          ],
          "name": "stdout"
        }
      ]
    },
    {
      "cell_type": "markdown",
      "metadata": {
        "id": "_47rWaOAegXm"
      },
      "source": [
        "#### Model evaluation"
      ]
    },
    {
      "cell_type": "code",
      "metadata": {
        "id": "dbFmQoxUegni"
      },
      "source": [
        "def plot_graph(history,string):\n",
        "    plt.figure(figsize=(8,4))\n",
        "    plt.plot(history.history[string],label=str(string))\n",
        "    plt.plot(history.history[\"val_\"+str(string)],label=str(string))\n",
        "    plt.xlabel(\"Epochs\")\n",
        "    plt.ylabel(string)\n",
        "    plt.legend([string,\"val_\"+string])\n",
        "    plt.show()"
      ],
      "execution_count": null,
      "outputs": []
    },
    {
      "cell_type": "code",
      "metadata": {
        "colab": {
          "base_uri": "https://localhost:8080/",
          "height": 542
        },
        "id": "cwa_2WDhhq2u",
        "outputId": "60a650ec-8ab5-4611-b56d-eb3f993f3377"
      },
      "source": [
        "plot_graph(training,\"accuracy\")\n",
        "plot_graph(training,\"loss\")"
      ],
      "execution_count": null,
      "outputs": [
        {
          "output_type": "display_data",
          "data": {
            "image/png": "[encoded data removed]",
            "text/plain": [
              "<Figure size 576x288 with 1 Axes>"
            ]
          },
          "metadata": {
            "tags": [],
            "needs_background": "light"
          }
        },
        {
          "output_type": "display_data",
          "data": {
            "image/png": "[encoded data removed]",
            "text/plain": [
              "<Figure size 576x288 with 1 Axes>"
            ]
          },
          "metadata": {
            "tags": [],
            "needs_background": "light"
          }
        }
      ]
    },
    {
      "cell_type": "markdown",
      "metadata": {
        "id": "Q9uzQdfLh4BR"
      },
      "source": [
        "We can observe that validation accuracy increases very slowly, while loss starts to increase with increase in number of epochs"
      ]
    },
    {
      "cell_type": "code",
      "metadata": {
        "colab": {
          "base_uri": "https://localhost:8080/"
        },
        "id": "y950WQIqhs3Y",
        "outputId": "a133a1d3-cbbc-4c7e-d20f-50154ec8f4fa"
      },
      "source": [
        "# model evaluation on test set\n",
        "loss,accuracy = model.evaluate(X_test,y_test)\n",
        "print('Total Accuracy on test set :{0:.2f} %'.format(accuracy*100))\n",
        "print('Total Loss on test set :{0:.4f}'.format(loss))"
      ],
      "execution_count": null,
      "outputs": [
        {
          "output_type": "stream",
          "text": [
            "209/209 [==============================] - 1s 4ms/step - loss: 0.3222 - accuracy: 0.8604\n",
            "Total Accuracy on test set :86.04 %\n",
            "Total Loss on test set :0.3222\n"
          ],
          "name": "stdout"
        }
      ]
    },
    {
      "cell_type": "code",
      "metadata": {
        "colab": {
          "base_uri": "https://localhost:8080/"
        },
        "id": "QGZpf-CEixzq",
        "outputId": "192459f1-5ab7-4aea-a565-8ff2497e0a74"
      },
      "source": [
        "#classification report\n",
        "y_pred = model.predict(X_test).round()\n",
        "\n",
        "print('Classification Report : ')\n",
        "print(classification_report(y_test,y_pred))\n"
      ],
      "execution_count": null,
      "outputs": [
        {
          "output_type": "stream",
          "text": [
            "Classification Report : \n",
            "              precision    recall  f1-score   support\n",
            "\n",
            "           0       0.87      0.88      0.88      3763\n",
            "           1       0.85      0.83      0.84      2914\n",
            "\n",
            "    accuracy                           0.86      6677\n",
            "   macro avg       0.86      0.86      0.86      6677\n",
            "weighted avg       0.86      0.86      0.86      6677\n",
            "\n"
          ],
          "name": "stdout"
        }
      ]
    },
    {
      "cell_type": "markdown",
      "metadata": {
        "id": "ucfzE2g3lnLY"
      },
      "source": [
        "Overall precision, recall and F1 scores are same and as high as 85%"
      ]
    },
    {
      "cell_type": "code",
      "metadata": {
        "colab": {
          "base_uri": "https://localhost:8080/",
          "height": 111
        },
        "id": "6k6qxHnSkb6h",
        "outputId": "37b1e61d-5a60-4404-8403-19159d3e1228"
      },
      "source": [
        "#confusion matrix\n",
        "cm = confusion_matrix(y_test,y_pred)\n",
        "df_cm = pd.DataFrame(data=cm,columns=['non-sarcastic','sarcastic'],index=['non-sarcastic','sarcastic'])\n",
        "df_cm"
      ],
      "execution_count": null,
      "outputs": [
        {
          "output_type": "execute_result",
          "data": {
            "text/html": [
              "<div>\n",
              "<style scoped>\n",
              "    .dataframe tbody tr th:only-of-type {\n",
              "        vertical-align: middle;\n",
              "    }\n",
              "\n",
              "    .dataframe tbody tr th {\n",
              "        vertical-align: top;\n",
              "    }\n",
              "\n",
              "    .dataframe thead th {\n",
              "        text-align: right;\n",
              "    }\n",
              "</style>\n",
              "<table border=\"1\" class=\"dataframe\">\n",
              "  <thead>\n",
              "    <tr style=\"text-align: right;\">\n",
              "      <th></th>\n",
              "      <th>non-sarcastic</th>\n",
              "      <th>sarcastic</th>\n",
              "    </tr>\n",
              "  </thead>\n",
              "  <tbody>\n",
              "    <tr>\n",
              "      <th>non-sarcastic</th>\n",
              "      <td>3327</td>\n",
              "      <td>436</td>\n",
              "    </tr>\n",
              "    <tr>\n",
              "      <th>sarcastic</th>\n",
              "      <td>496</td>\n",
              "      <td>2418</td>\n",
              "    </tr>\n",
              "  </tbody>\n",
              "</table>\n",
              "</div>"
            ],
            "text/plain": [
              "               non-sarcastic  sarcastic\n",
              "non-sarcastic           3327        436\n",
              "sarcastic                496       2418"
            ]
          },
          "metadata": {
            "tags": []
          },
          "execution_count": 152
        }
      ]
    },
    {
      "cell_type": "markdown",
      "metadata": {
        "id": "HGOwhVzqt1kq"
      },
      "source": [
        "# Conclusions\n",
        "\n",
        "\n",
        "\n",
        "1.   Following preprocessing steps were used\n",
        "      1. lower case conversion\n",
        "      2. removing special chracters\n",
        "      3. lemmatization\n",
        "\n",
        "\n",
        "2.   Glove embeddings were used to create embeddings\n",
        "3.   Bidirectional LSTM model was used\n",
        "4.   Model achieves an acceptable accuracy of 86%   \n",
        "5.   Different splits, batch size and epochs are tried, Best result received using  batch size=100 and epochs = 6\n",
        "\n",
        "\n",
        "\n",
        "\n",
        "\n",
        "\n",
        "\n",
        "\n"
      ]
    }
  ]
}